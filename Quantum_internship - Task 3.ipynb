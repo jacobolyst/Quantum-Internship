{
 "cells": [
  {
   "cell_type": "markdown",
   "id": "48e622ba-c9bf-48e3-b4cb-edd6b26b53a1",
   "metadata": {},
   "source": [
    "<r>22.10.2022 r.<r>\n",
    "<h1><center>Assignment - part 2</center></h1>\n",
    "<h2><center>Quantum Internship</center></h2>\n",
    "\n",
    "<h3><center>Jakub Łuczka</center></h3>"
   ]
  },
  {
   "cell_type": "code",
   "execution_count": 125,
   "id": "154fcaa2-cece-4013-835a-cbb45497c39d",
   "metadata": {},
   "outputs": [],
   "source": [
    "# Import necessery modules for data analysis\n",
    "\n",
    "import numpy as np\n",
    "import pandas as pd\n",
    "import matplotlib.pyplot as plt\n",
    "import seaborn as sns\n"
   ]
  },
  {
   "cell_type": "code",
   "execution_count": 126,
   "id": "832f3785-db16-46f6-a98f-1278136622f0",
   "metadata": {},
   "outputs": [],
   "source": [
    "# Import functions for predictions\n",
    "\n",
    "from sklearn.metrics import mean_squared_error\n",
    "from sklearn.pipeline import make_pipeline, Pipeline\n",
    "from sklearn.model_selection import GridSearchCV, train_test_split\n",
    "\n",
    "from sklearn.preprocessing import StandardScaler, MinMaxScaler, PolynomialFeatures\n",
    "from sklearn.linear_model import LinearRegression, Lasso, Ridge, ElasticNet, SGDRegressor, BayesianRidge\n"
   ]
  },
  {
   "cell_type": "markdown",
   "id": "c66b5f38-f73e-44ab-9130-16d3f86247a7",
   "metadata": {},
   "source": [
    "<h3>Exercise 3</h3>\n",
    "\n",
    "<b>Regression on the tabular data</b>\n",
    "\n",
    "You have a dataset (internship_train.csv) that contains 53 anonymized features and a target column. Your task is to build model that predicts a target based on the proposed features. Please provide predictions for internship_hidden_test.csv file. Target metric is RMSE. The main goal is to provide github repository that contains:\n",
    "\n",
    "● jupyter notebook with analysis;\n",
    "\n",
    "● code for modeling (Python 3);\n",
    "\n",
    "● file with model predictions;\n",
    "\n",
    "● readme file;\n",
    "\n",
    "● requirements.txt file.\n"
   ]
  },
  {
   "cell_type": "markdown",
   "id": "e9ccbf6c-d5f8-4ca5-b472-6e32fa57d9d7",
   "metadata": {},
   "source": [
    "<h2>Data manipulations and analysis</h2>"
   ]
  },
  {
   "cell_type": "code",
   "execution_count": 2,
   "id": "c6a24d89-0f9d-478b-8a5c-9cc9ef1c8074",
   "metadata": {},
   "outputs": [
    {
     "data": {
      "text/html": [
       "<div>\n",
       "<style scoped>\n",
       "    .dataframe tbody tr th:only-of-type {\n",
       "        vertical-align: middle;\n",
       "    }\n",
       "\n",
       "    .dataframe tbody tr th {\n",
       "        vertical-align: top;\n",
       "    }\n",
       "\n",
       "    .dataframe thead th {\n",
       "        text-align: right;\n",
       "    }\n",
       "</style>\n",
       "<table border=\"1\" class=\"dataframe\">\n",
       "  <thead>\n",
       "    <tr style=\"text-align: right;\">\n",
       "      <th></th>\n",
       "      <th>0</th>\n",
       "      <th>1</th>\n",
       "      <th>2</th>\n",
       "      <th>3</th>\n",
       "      <th>4</th>\n",
       "      <th>5</th>\n",
       "      <th>6</th>\n",
       "      <th>7</th>\n",
       "      <th>8</th>\n",
       "      <th>9</th>\n",
       "      <th>...</th>\n",
       "      <th>44</th>\n",
       "      <th>45</th>\n",
       "      <th>46</th>\n",
       "      <th>47</th>\n",
       "      <th>48</th>\n",
       "      <th>49</th>\n",
       "      <th>50</th>\n",
       "      <th>51</th>\n",
       "      <th>52</th>\n",
       "      <th>target</th>\n",
       "    </tr>\n",
       "  </thead>\n",
       "  <tbody>\n",
       "    <tr>\n",
       "      <th>0</th>\n",
       "      <td>236</td>\n",
       "      <td>488</td>\n",
       "      <td>16</td>\n",
       "      <td>221</td>\n",
       "      <td>382</td>\n",
       "      <td>97</td>\n",
       "      <td>-4.472136</td>\n",
       "      <td>0.107472</td>\n",
       "      <td>0</td>\n",
       "      <td>132</td>\n",
       "      <td>...</td>\n",
       "      <td>13.340874</td>\n",
       "      <td>0.870542</td>\n",
       "      <td>1.962937</td>\n",
       "      <td>7.466666</td>\n",
       "      <td>11.547794</td>\n",
       "      <td>8.822916</td>\n",
       "      <td>9.046424</td>\n",
       "      <td>7.895535</td>\n",
       "      <td>11.010677</td>\n",
       "      <td>20.107472</td>\n",
       "    </tr>\n",
       "    <tr>\n",
       "      <th>1</th>\n",
       "      <td>386</td>\n",
       "      <td>206</td>\n",
       "      <td>357</td>\n",
       "      <td>232</td>\n",
       "      <td>1</td>\n",
       "      <td>198</td>\n",
       "      <td>7.810250</td>\n",
       "      <td>0.763713</td>\n",
       "      <td>1</td>\n",
       "      <td>143</td>\n",
       "      <td>...</td>\n",
       "      <td>12.484882</td>\n",
       "      <td>7.168680</td>\n",
       "      <td>2.885415</td>\n",
       "      <td>12.413973</td>\n",
       "      <td>10.260494</td>\n",
       "      <td>10.091351</td>\n",
       "      <td>9.270888</td>\n",
       "      <td>3.173994</td>\n",
       "      <td>13.921871</td>\n",
       "      <td>61.763713</td>\n",
       "    </tr>\n",
       "    <tr>\n",
       "      <th>2</th>\n",
       "      <td>429</td>\n",
       "      <td>49</td>\n",
       "      <td>481</td>\n",
       "      <td>111</td>\n",
       "      <td>111</td>\n",
       "      <td>146</td>\n",
       "      <td>8.602325</td>\n",
       "      <td>0.651162</td>\n",
       "      <td>1</td>\n",
       "      <td>430</td>\n",
       "      <td>...</td>\n",
       "      <td>14.030257</td>\n",
       "      <td>0.394970</td>\n",
       "      <td>8.160625</td>\n",
       "      <td>12.592059</td>\n",
       "      <td>8.937577</td>\n",
       "      <td>2.265191</td>\n",
       "      <td>11.255721</td>\n",
       "      <td>12.794841</td>\n",
       "      <td>12.080951</td>\n",
       "      <td>74.651162</td>\n",
       "    </tr>\n",
       "    <tr>\n",
       "      <th>3</th>\n",
       "      <td>414</td>\n",
       "      <td>350</td>\n",
       "      <td>481</td>\n",
       "      <td>370</td>\n",
       "      <td>208</td>\n",
       "      <td>158</td>\n",
       "      <td>8.306624</td>\n",
       "      <td>0.424645</td>\n",
       "      <td>1</td>\n",
       "      <td>340</td>\n",
       "      <td>...</td>\n",
       "      <td>2.789577</td>\n",
       "      <td>6.416708</td>\n",
       "      <td>10.549814</td>\n",
       "      <td>11.456437</td>\n",
       "      <td>6.468099</td>\n",
       "      <td>2.519049</td>\n",
       "      <td>0.258284</td>\n",
       "      <td>9.317696</td>\n",
       "      <td>5.383098</td>\n",
       "      <td>69.424645</td>\n",
       "    </tr>\n",
       "    <tr>\n",
       "      <th>4</th>\n",
       "      <td>318</td>\n",
       "      <td>359</td>\n",
       "      <td>20</td>\n",
       "      <td>218</td>\n",
       "      <td>317</td>\n",
       "      <td>301</td>\n",
       "      <td>8.124038</td>\n",
       "      <td>0.767304</td>\n",
       "      <td>1</td>\n",
       "      <td>212</td>\n",
       "      <td>...</td>\n",
       "      <td>1.886560</td>\n",
       "      <td>1.919999</td>\n",
       "      <td>2.268203</td>\n",
       "      <td>0.149421</td>\n",
       "      <td>4.105907</td>\n",
       "      <td>10.416291</td>\n",
       "      <td>6.816217</td>\n",
       "      <td>8.586960</td>\n",
       "      <td>4.512419</td>\n",
       "      <td>66.767304</td>\n",
       "    </tr>\n",
       "    <tr>\n",
       "      <th>5</th>\n",
       "      <td>70</td>\n",
       "      <td>299</td>\n",
       "      <td>297</td>\n",
       "      <td>350</td>\n",
       "      <td>428</td>\n",
       "      <td>359</td>\n",
       "      <td>5.830952</td>\n",
       "      <td>0.505189</td>\n",
       "      <td>1</td>\n",
       "      <td>73</td>\n",
       "      <td>...</td>\n",
       "      <td>1.486867</td>\n",
       "      <td>0.366128</td>\n",
       "      <td>11.245683</td>\n",
       "      <td>6.116113</td>\n",
       "      <td>9.315978</td>\n",
       "      <td>4.063209</td>\n",
       "      <td>7.156703</td>\n",
       "      <td>12.132241</td>\n",
       "      <td>14.141104</td>\n",
       "      <td>34.505189</td>\n",
       "    </tr>\n",
       "    <tr>\n",
       "      <th>6</th>\n",
       "      <td>457</td>\n",
       "      <td>363</td>\n",
       "      <td>162</td>\n",
       "      <td>67</td>\n",
       "      <td>388</td>\n",
       "      <td>326</td>\n",
       "      <td>-1.414214</td>\n",
       "      <td>0.604309</td>\n",
       "      <td>0</td>\n",
       "      <td>258</td>\n",
       "      <td>...</td>\n",
       "      <td>8.260282</td>\n",
       "      <td>5.239815</td>\n",
       "      <td>1.163579</td>\n",
       "      <td>10.797268</td>\n",
       "      <td>5.819056</td>\n",
       "      <td>4.451118</td>\n",
       "      <td>14.645322</td>\n",
       "      <td>11.739865</td>\n",
       "      <td>14.763017</td>\n",
       "      <td>2.604309</td>\n",
       "    </tr>\n",
       "    <tr>\n",
       "      <th>7</th>\n",
       "      <td>414</td>\n",
       "      <td>271</td>\n",
       "      <td>163</td>\n",
       "      <td>317</td>\n",
       "      <td>359</td>\n",
       "      <td>116</td>\n",
       "      <td>-6.324555</td>\n",
       "      <td>0.022464</td>\n",
       "      <td>0</td>\n",
       "      <td>485</td>\n",
       "      <td>...</td>\n",
       "      <td>5.925065</td>\n",
       "      <td>6.080010</td>\n",
       "      <td>11.318467</td>\n",
       "      <td>11.013787</td>\n",
       "      <td>12.137311</td>\n",
       "      <td>2.759765</td>\n",
       "      <td>10.537518</td>\n",
       "      <td>4.243830</td>\n",
       "      <td>3.232530</td>\n",
       "      <td>40.022464</td>\n",
       "    </tr>\n",
       "    <tr>\n",
       "      <th>8</th>\n",
       "      <td>420</td>\n",
       "      <td>85</td>\n",
       "      <td>378</td>\n",
       "      <td>71</td>\n",
       "      <td>243</td>\n",
       "      <td>301</td>\n",
       "      <td>-8.602325</td>\n",
       "      <td>0.228071</td>\n",
       "      <td>0</td>\n",
       "      <td>401</td>\n",
       "      <td>...</td>\n",
       "      <td>5.483159</td>\n",
       "      <td>1.534398</td>\n",
       "      <td>4.690240</td>\n",
       "      <td>11.142059</td>\n",
       "      <td>12.290323</td>\n",
       "      <td>1.975012</td>\n",
       "      <td>11.061706</td>\n",
       "      <td>14.486846</td>\n",
       "      <td>13.244187</td>\n",
       "      <td>74.228071</td>\n",
       "    </tr>\n",
       "    <tr>\n",
       "      <th>9</th>\n",
       "      <td>445</td>\n",
       "      <td>304</td>\n",
       "      <td>359</td>\n",
       "      <td>298</td>\n",
       "      <td>141</td>\n",
       "      <td>369</td>\n",
       "      <td>8.774964</td>\n",
       "      <td>0.919384</td>\n",
       "      <td>1</td>\n",
       "      <td>63</td>\n",
       "      <td>...</td>\n",
       "      <td>12.267670</td>\n",
       "      <td>4.999463</td>\n",
       "      <td>0.376892</td>\n",
       "      <td>0.121794</td>\n",
       "      <td>0.914422</td>\n",
       "      <td>12.471633</td>\n",
       "      <td>13.760204</td>\n",
       "      <td>14.500278</td>\n",
       "      <td>4.583603</td>\n",
       "      <td>77.919384</td>\n",
       "    </tr>\n",
       "  </tbody>\n",
       "</table>\n",
       "<p>10 rows × 54 columns</p>\n",
       "</div>"
      ],
      "text/plain": [
       "     0    1    2    3    4    5         6         7  8    9  ...         44  \\\n",
       "0  236  488   16  221  382   97 -4.472136  0.107472  0  132  ...  13.340874   \n",
       "1  386  206  357  232    1  198  7.810250  0.763713  1  143  ...  12.484882   \n",
       "2  429   49  481  111  111  146  8.602325  0.651162  1  430  ...  14.030257   \n",
       "3  414  350  481  370  208  158  8.306624  0.424645  1  340  ...   2.789577   \n",
       "4  318  359   20  218  317  301  8.124038  0.767304  1  212  ...   1.886560   \n",
       "5   70  299  297  350  428  359  5.830952  0.505189  1   73  ...   1.486867   \n",
       "6  457  363  162   67  388  326 -1.414214  0.604309  0  258  ...   8.260282   \n",
       "7  414  271  163  317  359  116 -6.324555  0.022464  0  485  ...   5.925065   \n",
       "8  420   85  378   71  243  301 -8.602325  0.228071  0  401  ...   5.483159   \n",
       "9  445  304  359  298  141  369  8.774964  0.919384  1   63  ...  12.267670   \n",
       "\n",
       "         45         46         47         48         49         50         51  \\\n",
       "0  0.870542   1.962937   7.466666  11.547794   8.822916   9.046424   7.895535   \n",
       "1  7.168680   2.885415  12.413973  10.260494  10.091351   9.270888   3.173994   \n",
       "2  0.394970   8.160625  12.592059   8.937577   2.265191  11.255721  12.794841   \n",
       "3  6.416708  10.549814  11.456437   6.468099   2.519049   0.258284   9.317696   \n",
       "4  1.919999   2.268203   0.149421   4.105907  10.416291   6.816217   8.586960   \n",
       "5  0.366128  11.245683   6.116113   9.315978   4.063209   7.156703  12.132241   \n",
       "6  5.239815   1.163579  10.797268   5.819056   4.451118  14.645322  11.739865   \n",
       "7  6.080010  11.318467  11.013787  12.137311   2.759765  10.537518   4.243830   \n",
       "8  1.534398   4.690240  11.142059  12.290323   1.975012  11.061706  14.486846   \n",
       "9  4.999463   0.376892   0.121794   0.914422  12.471633  13.760204  14.500278   \n",
       "\n",
       "          52     target  \n",
       "0  11.010677  20.107472  \n",
       "1  13.921871  61.763713  \n",
       "2  12.080951  74.651162  \n",
       "3   5.383098  69.424645  \n",
       "4   4.512419  66.767304  \n",
       "5  14.141104  34.505189  \n",
       "6  14.763017   2.604309  \n",
       "7   3.232530  40.022464  \n",
       "8  13.244187  74.228071  \n",
       "9   4.583603  77.919384  \n",
       "\n",
       "[10 rows x 54 columns]"
      ]
     },
     "execution_count": 2,
     "metadata": {},
     "output_type": "execute_result"
    }
   ],
   "source": [
    "quantum = pd.read_csv('internship_train.csv')\n",
    "quantum.head(10)"
   ]
  },
  {
   "cell_type": "code",
   "execution_count": 3,
   "id": "8be9ce4b-ce6f-472d-ba4e-5d5e9f9949ff",
   "metadata": {},
   "outputs": [
    {
     "data": {
      "text/plain": [
       "(90000, 54)"
      ]
     },
     "execution_count": 3,
     "metadata": {},
     "output_type": "execute_result"
    }
   ],
   "source": [
    "# Cheiking the amount of rows and columns\n",
    "quantum.shape"
   ]
  },
  {
   "cell_type": "code",
   "execution_count": 4,
   "id": "45036788-9bef-4bce-9414-3471e1ea7987",
   "metadata": {},
   "outputs": [
    {
     "data": {
      "text/plain": [
       "Index(['0', '1', '2', '3', '4', '5', '6', '7', '8', '9', '10', '11', '12',\n",
       "       '13', '14', '15', '16', '17', '18', '19', '20', '21', '22', '23', '24',\n",
       "       '25', '26', '27', '28', '29', '30', '31', '32', '33', '34', '35', '36',\n",
       "       '37', '38', '39', '40', '41', '42', '43', '44', '45', '46', '47', '48',\n",
       "       '49', '50', '51', '52', 'target'],\n",
       "      dtype='object')"
      ]
     },
     "execution_count": 4,
     "metadata": {},
     "output_type": "execute_result"
    }
   ],
   "source": [
    "# Cheking the names of the columns\n",
    "quantum.columns"
   ]
  },
  {
   "cell_type": "code",
   "execution_count": 5,
   "id": "60d9c8b2-9e2d-4720-b478-a3ac200b7ff3",
   "metadata": {},
   "outputs": [
    {
     "name": "stdout",
     "output_type": "stream",
     "text": [
      "<class 'pandas.core.frame.DataFrame'>\n",
      "RangeIndex: 90000 entries, 0 to 89999\n",
      "Data columns (total 54 columns):\n",
      " #   Column  Non-Null Count  Dtype  \n",
      "---  ------  --------------  -----  \n",
      " 0   0       90000 non-null  int64  \n",
      " 1   1       90000 non-null  int64  \n",
      " 2   2       90000 non-null  int64  \n",
      " 3   3       90000 non-null  int64  \n",
      " 4   4       90000 non-null  int64  \n",
      " 5   5       90000 non-null  int64  \n",
      " 6   6       90000 non-null  float64\n",
      " 7   7       90000 non-null  float64\n",
      " 8   8       90000 non-null  int64  \n",
      " 9   9       90000 non-null  int64  \n",
      " 10  10      90000 non-null  int64  \n",
      " 11  11      90000 non-null  int64  \n",
      " 12  12      90000 non-null  int64  \n",
      " 13  13      90000 non-null  float64\n",
      " 14  14      90000 non-null  float64\n",
      " 15  15      90000 non-null  float64\n",
      " 16  16      90000 non-null  float64\n",
      " 17  17      90000 non-null  float64\n",
      " 18  18      90000 non-null  float64\n",
      " 19  19      90000 non-null  float64\n",
      " 20  20      90000 non-null  float64\n",
      " 21  21      90000 non-null  float64\n",
      " 22  22      90000 non-null  float64\n",
      " 23  23      90000 non-null  float64\n",
      " 24  24      90000 non-null  float64\n",
      " 25  25      90000 non-null  float64\n",
      " 26  26      90000 non-null  float64\n",
      " 27  27      90000 non-null  float64\n",
      " 28  28      90000 non-null  float64\n",
      " 29  29      90000 non-null  float64\n",
      " 30  30      90000 non-null  float64\n",
      " 31  31      90000 non-null  float64\n",
      " 32  32      90000 non-null  float64\n",
      " 33  33      90000 non-null  float64\n",
      " 34  34      90000 non-null  float64\n",
      " 35  35      90000 non-null  float64\n",
      " 36  36      90000 non-null  float64\n",
      " 37  37      90000 non-null  float64\n",
      " 38  38      90000 non-null  float64\n",
      " 39  39      90000 non-null  float64\n",
      " 40  40      90000 non-null  float64\n",
      " 41  41      90000 non-null  float64\n",
      " 42  42      90000 non-null  float64\n",
      " 43  43      90000 non-null  float64\n",
      " 44  44      90000 non-null  float64\n",
      " 45  45      90000 non-null  float64\n",
      " 46  46      90000 non-null  float64\n",
      " 47  47      90000 non-null  float64\n",
      " 48  48      90000 non-null  float64\n",
      " 49  49      90000 non-null  float64\n",
      " 50  50      90000 non-null  float64\n",
      " 51  51      90000 non-null  float64\n",
      " 52  52      90000 non-null  float64\n",
      " 53  target  90000 non-null  float64\n",
      "dtypes: float64(43), int64(11)\n",
      "memory usage: 37.1 MB\n"
     ]
    }
   ],
   "source": [
    "# Cheking type and size of single column in dataset\n",
    "quantum.info()"
   ]
  },
  {
   "cell_type": "code",
   "execution_count": 6,
   "id": "0f6cd4b2-03a1-482b-a59a-4398a21068a5",
   "metadata": {},
   "outputs": [
    {
     "data": {
      "text/plain": [
       "0      1      2      3      4      5      6      7      8      9      10     11     12     13     14     15     16     17     18     19     20     21     22     23     24     25     26     27     28     29     30     31     32     33     34     35     36     37     38     39     40     41     42     43     44     45     46     47     48     49     50     51     52     target\n",
       "False  False  False  False  False  False  False  False  False  False  False  False  False  False  False  False  False  False  False  False  False  False  False  False  False  False  False  False  False  False  False  False  False  False  False  False  False  False  False  False  False  False  False  False  False  False  False  False  False  False  False  False  False  False     90000\n",
       "dtype: int64"
      ]
     },
     "execution_count": 6,
     "metadata": {},
     "output_type": "execute_result"
    }
   ],
   "source": [
    "# Checking potencial null values in all columns\n",
    "quantum.isna().value_counts()"
   ]
  },
  {
   "cell_type": "code",
   "execution_count": 7,
   "id": "6b96bb17-7008-46dd-be99-84e14efb2448",
   "metadata": {},
   "outputs": [
    {
     "data": {
      "text/html": [
       "<div>\n",
       "<style scoped>\n",
       "    .dataframe tbody tr th:only-of-type {\n",
       "        vertical-align: middle;\n",
       "    }\n",
       "\n",
       "    .dataframe tbody tr th {\n",
       "        vertical-align: top;\n",
       "    }\n",
       "\n",
       "    .dataframe thead th {\n",
       "        text-align: right;\n",
       "    }\n",
       "</style>\n",
       "<table border=\"1\" class=\"dataframe\">\n",
       "  <thead>\n",
       "    <tr style=\"text-align: right;\">\n",
       "      <th></th>\n",
       "      <th>0</th>\n",
       "      <th>1</th>\n",
       "      <th>2</th>\n",
       "      <th>3</th>\n",
       "      <th>4</th>\n",
       "      <th>5</th>\n",
       "      <th>6</th>\n",
       "      <th>7</th>\n",
       "      <th>8</th>\n",
       "      <th>9</th>\n",
       "      <th>10</th>\n",
       "      <th>11</th>\n",
       "      <th>12</th>\n",
       "      <th>13</th>\n",
       "      <th>14</th>\n",
       "      <th>15</th>\n",
       "      <th>16</th>\n",
       "      <th>17</th>\n",
       "      <th>18</th>\n",
       "      <th>19</th>\n",
       "      <th>20</th>\n",
       "      <th>21</th>\n",
       "      <th>22</th>\n",
       "      <th>23</th>\n",
       "      <th>24</th>\n",
       "      <th>25</th>\n",
       "      <th>26</th>\n",
       "      <th>27</th>\n",
       "      <th>28</th>\n",
       "      <th>29</th>\n",
       "      <th>30</th>\n",
       "      <th>31</th>\n",
       "      <th>32</th>\n",
       "      <th>33</th>\n",
       "      <th>34</th>\n",
       "      <th>35</th>\n",
       "      <th>36</th>\n",
       "      <th>37</th>\n",
       "      <th>38</th>\n",
       "      <th>39</th>\n",
       "      <th>40</th>\n",
       "      <th>41</th>\n",
       "      <th>42</th>\n",
       "      <th>43</th>\n",
       "      <th>44</th>\n",
       "      <th>45</th>\n",
       "      <th>46</th>\n",
       "      <th>47</th>\n",
       "      <th>48</th>\n",
       "      <th>49</th>\n",
       "      <th>50</th>\n",
       "      <th>51</th>\n",
       "      <th>52</th>\n",
       "      <th>target</th>\n",
       "    </tr>\n",
       "  </thead>\n",
       "  <tbody>\n",
       "    <tr>\n",
       "      <th>count</th>\n",
       "      <td>90000.000000</td>\n",
       "      <td>90000.000000</td>\n",
       "      <td>90000.000000</td>\n",
       "      <td>90000.000000</td>\n",
       "      <td>90000.000000</td>\n",
       "      <td>90000.000000</td>\n",
       "      <td>90000.000000</td>\n",
       "      <td>90000.000000</td>\n",
       "      <td>90000.000000</td>\n",
       "      <td>90000.000000</td>\n",
       "      <td>90000.000000</td>\n",
       "      <td>90000.000000</td>\n",
       "      <td>90000.000000</td>\n",
       "      <td>90000.000000</td>\n",
       "      <td>90000.000000</td>\n",
       "      <td>90000.000000</td>\n",
       "      <td>90000.000000</td>\n",
       "      <td>90000.000000</td>\n",
       "      <td>90000.000000</td>\n",
       "      <td>90000.000000</td>\n",
       "      <td>90000.000000</td>\n",
       "      <td>90000.000000</td>\n",
       "      <td>90000.000000</td>\n",
       "      <td>90000.000000</td>\n",
       "      <td>90000.000000</td>\n",
       "      <td>90000.000000</td>\n",
       "      <td>90000.000000</td>\n",
       "      <td>90000.000000</td>\n",
       "      <td>90000.000000</td>\n",
       "      <td>90000.000000</td>\n",
       "      <td>90000.000000</td>\n",
       "      <td>90000.000000</td>\n",
       "      <td>90000.000000</td>\n",
       "      <td>90000.000000</td>\n",
       "      <td>90000.000000</td>\n",
       "      <td>90000.000000</td>\n",
       "      <td>90000.000000</td>\n",
       "      <td>90000.000000</td>\n",
       "      <td>90000.000000</td>\n",
       "      <td>90000.000000</td>\n",
       "      <td>90000.000000</td>\n",
       "      <td>90000.000000</td>\n",
       "      <td>90000.000000</td>\n",
       "      <td>90000.000000</td>\n",
       "      <td>90000.000000</td>\n",
       "      <td>90000.000000</td>\n",
       "      <td>90000.000000</td>\n",
       "      <td>90000.000000</td>\n",
       "      <td>90000.000000</td>\n",
       "      <td>90000.000000</td>\n",
       "      <td>90000.000000</td>\n",
       "      <td>90000.000000</td>\n",
       "      <td>90000.000000</td>\n",
       "      <td>90000.000000</td>\n",
       "    </tr>\n",
       "    <tr>\n",
       "      <th>mean</th>\n",
       "      <td>249.423944</td>\n",
       "      <td>250.236267</td>\n",
       "      <td>248.637289</td>\n",
       "      <td>249.736600</td>\n",
       "      <td>249.436178</td>\n",
       "      <td>249.656167</td>\n",
       "      <td>-0.011402</td>\n",
       "      <td>0.498548</td>\n",
       "      <td>0.499189</td>\n",
       "      <td>249.842033</td>\n",
       "      <td>249.818967</td>\n",
       "      <td>249.346778</td>\n",
       "      <td>249.899900</td>\n",
       "      <td>7.483940</td>\n",
       "      <td>7.498037</td>\n",
       "      <td>7.496259</td>\n",
       "      <td>7.501635</td>\n",
       "      <td>7.486463</td>\n",
       "      <td>7.523043</td>\n",
       "      <td>7.475585</td>\n",
       "      <td>7.494835</td>\n",
       "      <td>7.503939</td>\n",
       "      <td>7.507724</td>\n",
       "      <td>7.508681</td>\n",
       "      <td>7.472421</td>\n",
       "      <td>7.519205</td>\n",
       "      <td>7.515753</td>\n",
       "      <td>7.509402</td>\n",
       "      <td>7.496781</td>\n",
       "      <td>7.504014</td>\n",
       "      <td>7.494212</td>\n",
       "      <td>7.490808</td>\n",
       "      <td>7.486936</td>\n",
       "      <td>7.514508</td>\n",
       "      <td>7.491614</td>\n",
       "      <td>7.520193</td>\n",
       "      <td>7.507801</td>\n",
       "      <td>7.493713</td>\n",
       "      <td>7.513840</td>\n",
       "      <td>7.507033</td>\n",
       "      <td>7.479579</td>\n",
       "      <td>7.519826</td>\n",
       "      <td>7.502483</td>\n",
       "      <td>7.512965</td>\n",
       "      <td>7.475155</td>\n",
       "      <td>7.523962</td>\n",
       "      <td>7.508397</td>\n",
       "      <td>7.473322</td>\n",
       "      <td>7.490658</td>\n",
       "      <td>7.474578</td>\n",
       "      <td>7.509206</td>\n",
       "      <td>7.487159</td>\n",
       "      <td>7.513316</td>\n",
       "      <td>50.033981</td>\n",
       "    </tr>\n",
       "    <tr>\n",
       "      <th>std</th>\n",
       "      <td>144.336393</td>\n",
       "      <td>144.022200</td>\n",
       "      <td>144.107577</td>\n",
       "      <td>144.284945</td>\n",
       "      <td>143.941581</td>\n",
       "      <td>144.329168</td>\n",
       "      <td>7.038171</td>\n",
       "      <td>0.288682</td>\n",
       "      <td>0.500002</td>\n",
       "      <td>144.612718</td>\n",
       "      <td>144.363827</td>\n",
       "      <td>144.476128</td>\n",
       "      <td>144.310495</td>\n",
       "      <td>4.330908</td>\n",
       "      <td>4.318388</td>\n",
       "      <td>4.338732</td>\n",
       "      <td>4.345618</td>\n",
       "      <td>4.318031</td>\n",
       "      <td>4.323500</td>\n",
       "      <td>4.327327</td>\n",
       "      <td>4.325447</td>\n",
       "      <td>4.330159</td>\n",
       "      <td>4.332599</td>\n",
       "      <td>4.328966</td>\n",
       "      <td>4.345228</td>\n",
       "      <td>4.339104</td>\n",
       "      <td>4.333907</td>\n",
       "      <td>4.331007</td>\n",
       "      <td>4.334982</td>\n",
       "      <td>4.318553</td>\n",
       "      <td>4.327286</td>\n",
       "      <td>4.322672</td>\n",
       "      <td>4.329524</td>\n",
       "      <td>4.329973</td>\n",
       "      <td>4.333144</td>\n",
       "      <td>4.335244</td>\n",
       "      <td>4.329515</td>\n",
       "      <td>4.327480</td>\n",
       "      <td>4.333543</td>\n",
       "      <td>4.327670</td>\n",
       "      <td>4.326175</td>\n",
       "      <td>4.315565</td>\n",
       "      <td>4.333881</td>\n",
       "      <td>4.329929</td>\n",
       "      <td>4.330410</td>\n",
       "      <td>4.321537</td>\n",
       "      <td>4.331761</td>\n",
       "      <td>4.335692</td>\n",
       "      <td>4.332122</td>\n",
       "      <td>4.323035</td>\n",
       "      <td>4.326364</td>\n",
       "      <td>4.324876</td>\n",
       "      <td>4.333080</td>\n",
       "      <td>28.897243</td>\n",
       "    </tr>\n",
       "    <tr>\n",
       "      <th>min</th>\n",
       "      <td>0.000000</td>\n",
       "      <td>0.000000</td>\n",
       "      <td>0.000000</td>\n",
       "      <td>0.000000</td>\n",
       "      <td>0.000000</td>\n",
       "      <td>0.000000</td>\n",
       "      <td>-9.949874</td>\n",
       "      <td>0.000014</td>\n",
       "      <td>0.000000</td>\n",
       "      <td>0.000000</td>\n",
       "      <td>0.000000</td>\n",
       "      <td>0.000000</td>\n",
       "      <td>0.000000</td>\n",
       "      <td>0.000095</td>\n",
       "      <td>0.000252</td>\n",
       "      <td>0.000190</td>\n",
       "      <td>0.000192</td>\n",
       "      <td>0.000067</td>\n",
       "      <td>0.000229</td>\n",
       "      <td>0.000125</td>\n",
       "      <td>0.000382</td>\n",
       "      <td>0.000398</td>\n",
       "      <td>0.000140</td>\n",
       "      <td>0.000382</td>\n",
       "      <td>0.000129</td>\n",
       "      <td>0.000192</td>\n",
       "      <td>0.000017</td>\n",
       "      <td>0.000080</td>\n",
       "      <td>0.000161</td>\n",
       "      <td>0.000437</td>\n",
       "      <td>0.000041</td>\n",
       "      <td>0.000070</td>\n",
       "      <td>0.000074</td>\n",
       "      <td>0.000111</td>\n",
       "      <td>0.000067</td>\n",
       "      <td>0.000078</td>\n",
       "      <td>0.000018</td>\n",
       "      <td>0.000094</td>\n",
       "      <td>0.000020</td>\n",
       "      <td>0.000106</td>\n",
       "      <td>0.000105</td>\n",
       "      <td>0.000273</td>\n",
       "      <td>0.000315</td>\n",
       "      <td>0.000060</td>\n",
       "      <td>0.000019</td>\n",
       "      <td>0.000040</td>\n",
       "      <td>0.000154</td>\n",
       "      <td>0.000083</td>\n",
       "      <td>0.000367</td>\n",
       "      <td>0.000014</td>\n",
       "      <td>0.000160</td>\n",
       "      <td>0.000147</td>\n",
       "      <td>0.000125</td>\n",
       "      <td>0.002634</td>\n",
       "    </tr>\n",
       "    <tr>\n",
       "      <th>25%</th>\n",
       "      <td>125.000000</td>\n",
       "      <td>126.000000</td>\n",
       "      <td>124.000000</td>\n",
       "      <td>125.000000</td>\n",
       "      <td>125.000000</td>\n",
       "      <td>124.000000</td>\n",
       "      <td>-7.071068</td>\n",
       "      <td>0.248932</td>\n",
       "      <td>0.000000</td>\n",
       "      <td>124.000000</td>\n",
       "      <td>126.000000</td>\n",
       "      <td>124.000000</td>\n",
       "      <td>125.000000</td>\n",
       "      <td>3.723392</td>\n",
       "      <td>3.763626</td>\n",
       "      <td>3.718755</td>\n",
       "      <td>3.719537</td>\n",
       "      <td>3.758746</td>\n",
       "      <td>3.778857</td>\n",
       "      <td>3.733780</td>\n",
       "      <td>3.748951</td>\n",
       "      <td>3.760261</td>\n",
       "      <td>3.742810</td>\n",
       "      <td>3.768145</td>\n",
       "      <td>3.685140</td>\n",
       "      <td>3.760790</td>\n",
       "      <td>3.746467</td>\n",
       "      <td>3.772795</td>\n",
       "      <td>3.741697</td>\n",
       "      <td>3.774239</td>\n",
       "      <td>3.743116</td>\n",
       "      <td>3.763061</td>\n",
       "      <td>3.750034</td>\n",
       "      <td>3.778028</td>\n",
       "      <td>3.743842</td>\n",
       "      <td>3.752848</td>\n",
       "      <td>3.776405</td>\n",
       "      <td>3.755325</td>\n",
       "      <td>3.754465</td>\n",
       "      <td>3.771945</td>\n",
       "      <td>3.731527</td>\n",
       "      <td>3.784809</td>\n",
       "      <td>3.763004</td>\n",
       "      <td>3.768044</td>\n",
       "      <td>3.707544</td>\n",
       "      <td>3.797002</td>\n",
       "      <td>3.760627</td>\n",
       "      <td>3.715721</td>\n",
       "      <td>3.739358</td>\n",
       "      <td>3.715298</td>\n",
       "      <td>3.773381</td>\n",
       "      <td>3.743536</td>\n",
       "      <td>3.776322</td>\n",
       "      <td>25.091903</td>\n",
       "    </tr>\n",
       "    <tr>\n",
       "      <th>50%</th>\n",
       "      <td>250.000000</td>\n",
       "      <td>251.000000</td>\n",
       "      <td>248.000000</td>\n",
       "      <td>250.000000</td>\n",
       "      <td>250.000000</td>\n",
       "      <td>250.000000</td>\n",
       "      <td>0.000000</td>\n",
       "      <td>0.497136</td>\n",
       "      <td>0.000000</td>\n",
       "      <td>250.000000</td>\n",
       "      <td>250.000000</td>\n",
       "      <td>249.000000</td>\n",
       "      <td>251.000000</td>\n",
       "      <td>7.483265</td>\n",
       "      <td>7.505267</td>\n",
       "      <td>7.502682</td>\n",
       "      <td>7.515240</td>\n",
       "      <td>7.467721</td>\n",
       "      <td>7.539462</td>\n",
       "      <td>7.460267</td>\n",
       "      <td>7.481500</td>\n",
       "      <td>7.521563</td>\n",
       "      <td>7.520793</td>\n",
       "      <td>7.520739</td>\n",
       "      <td>7.484349</td>\n",
       "      <td>7.526894</td>\n",
       "      <td>7.528984</td>\n",
       "      <td>7.494876</td>\n",
       "      <td>7.491009</td>\n",
       "      <td>7.500083</td>\n",
       "      <td>7.514475</td>\n",
       "      <td>7.483334</td>\n",
       "      <td>7.458614</td>\n",
       "      <td>7.513794</td>\n",
       "      <td>7.475324</td>\n",
       "      <td>7.550623</td>\n",
       "      <td>7.484699</td>\n",
       "      <td>7.472789</td>\n",
       "      <td>7.518614</td>\n",
       "      <td>7.504101</td>\n",
       "      <td>7.452493</td>\n",
       "      <td>7.532363</td>\n",
       "      <td>7.511806</td>\n",
       "      <td>7.507058</td>\n",
       "      <td>7.474127</td>\n",
       "      <td>7.533987</td>\n",
       "      <td>7.505259</td>\n",
       "      <td>7.459774</td>\n",
       "      <td>7.494167</td>\n",
       "      <td>7.477270</td>\n",
       "      <td>7.512575</td>\n",
       "      <td>7.476564</td>\n",
       "      <td>7.506812</td>\n",
       "      <td>50.030705</td>\n",
       "    </tr>\n",
       "    <tr>\n",
       "      <th>75%</th>\n",
       "      <td>374.000000</td>\n",
       "      <td>375.000000</td>\n",
       "      <td>374.000000</td>\n",
       "      <td>375.000000</td>\n",
       "      <td>373.000000</td>\n",
       "      <td>374.000000</td>\n",
       "      <td>7.000000</td>\n",
       "      <td>0.747513</td>\n",
       "      <td>1.000000</td>\n",
       "      <td>376.000000</td>\n",
       "      <td>375.000000</td>\n",
       "      <td>375.000000</td>\n",
       "      <td>375.000000</td>\n",
       "      <td>11.242883</td>\n",
       "      <td>11.228331</td>\n",
       "      <td>11.258049</td>\n",
       "      <td>11.284618</td>\n",
       "      <td>11.238904</td>\n",
       "      <td>11.254751</td>\n",
       "      <td>11.211187</td>\n",
       "      <td>11.238128</td>\n",
       "      <td>11.248749</td>\n",
       "      <td>11.244657</td>\n",
       "      <td>11.240915</td>\n",
       "      <td>11.239795</td>\n",
       "      <td>11.276738</td>\n",
       "      <td>11.272683</td>\n",
       "      <td>11.271486</td>\n",
       "      <td>11.257988</td>\n",
       "      <td>11.233189</td>\n",
       "      <td>11.223296</td>\n",
       "      <td>11.229486</td>\n",
       "      <td>11.245719</td>\n",
       "      <td>11.272623</td>\n",
       "      <td>11.241922</td>\n",
       "      <td>11.261178</td>\n",
       "      <td>11.255442</td>\n",
       "      <td>11.251097</td>\n",
       "      <td>11.270277</td>\n",
       "      <td>11.241504</td>\n",
       "      <td>11.222543</td>\n",
       "      <td>11.241135</td>\n",
       "      <td>11.255483</td>\n",
       "      <td>11.272459</td>\n",
       "      <td>11.216585</td>\n",
       "      <td>11.276349</td>\n",
       "      <td>11.261971</td>\n",
       "      <td>11.215637</td>\n",
       "      <td>11.239232</td>\n",
       "      <td>11.210070</td>\n",
       "      <td>11.268156</td>\n",
       "      <td>11.234414</td>\n",
       "      <td>11.277835</td>\n",
       "      <td>75.059454</td>\n",
       "    </tr>\n",
       "    <tr>\n",
       "      <th>max</th>\n",
       "      <td>499.000000</td>\n",
       "      <td>499.000000</td>\n",
       "      <td>499.000000</td>\n",
       "      <td>499.000000</td>\n",
       "      <td>499.000000</td>\n",
       "      <td>499.000000</td>\n",
       "      <td>9.949874</td>\n",
       "      <td>0.999987</td>\n",
       "      <td>1.000000</td>\n",
       "      <td>499.000000</td>\n",
       "      <td>499.000000</td>\n",
       "      <td>499.000000</td>\n",
       "      <td>499.000000</td>\n",
       "      <td>14.999920</td>\n",
       "      <td>14.999938</td>\n",
       "      <td>14.999660</td>\n",
       "      <td>14.999979</td>\n",
       "      <td>14.999840</td>\n",
       "      <td>14.999857</td>\n",
       "      <td>14.999634</td>\n",
       "      <td>14.999953</td>\n",
       "      <td>14.999483</td>\n",
       "      <td>14.999762</td>\n",
       "      <td>14.999875</td>\n",
       "      <td>14.999987</td>\n",
       "      <td>14.999651</td>\n",
       "      <td>14.999995</td>\n",
       "      <td>14.999838</td>\n",
       "      <td>14.999958</td>\n",
       "      <td>14.999841</td>\n",
       "      <td>14.999808</td>\n",
       "      <td>14.999927</td>\n",
       "      <td>14.999896</td>\n",
       "      <td>14.999871</td>\n",
       "      <td>14.999558</td>\n",
       "      <td>14.999898</td>\n",
       "      <td>14.999997</td>\n",
       "      <td>14.999822</td>\n",
       "      <td>14.999958</td>\n",
       "      <td>14.999933</td>\n",
       "      <td>14.999704</td>\n",
       "      <td>14.999940</td>\n",
       "      <td>14.999739</td>\n",
       "      <td>14.999605</td>\n",
       "      <td>14.999900</td>\n",
       "      <td>14.999528</td>\n",
       "      <td>14.999733</td>\n",
       "      <td>14.999478</td>\n",
       "      <td>14.999869</td>\n",
       "      <td>14.999928</td>\n",
       "      <td>14.999948</td>\n",
       "      <td>14.999364</td>\n",
       "      <td>14.999775</td>\n",
       "      <td>99.999482</td>\n",
       "    </tr>\n",
       "  </tbody>\n",
       "</table>\n",
       "</div>"
      ],
      "text/plain": [
       "                  0             1             2             3             4  \\\n",
       "count  90000.000000  90000.000000  90000.000000  90000.000000  90000.000000   \n",
       "mean     249.423944    250.236267    248.637289    249.736600    249.436178   \n",
       "std      144.336393    144.022200    144.107577    144.284945    143.941581   \n",
       "min        0.000000      0.000000      0.000000      0.000000      0.000000   \n",
       "25%      125.000000    126.000000    124.000000    125.000000    125.000000   \n",
       "50%      250.000000    251.000000    248.000000    250.000000    250.000000   \n",
       "75%      374.000000    375.000000    374.000000    375.000000    373.000000   \n",
       "max      499.000000    499.000000    499.000000    499.000000    499.000000   \n",
       "\n",
       "                  5             6             7             8             9  \\\n",
       "count  90000.000000  90000.000000  90000.000000  90000.000000  90000.000000   \n",
       "mean     249.656167     -0.011402      0.498548      0.499189    249.842033   \n",
       "std      144.329168      7.038171      0.288682      0.500002    144.612718   \n",
       "min        0.000000     -9.949874      0.000014      0.000000      0.000000   \n",
       "25%      124.000000     -7.071068      0.248932      0.000000    124.000000   \n",
       "50%      250.000000      0.000000      0.497136      0.000000    250.000000   \n",
       "75%      374.000000      7.000000      0.747513      1.000000    376.000000   \n",
       "max      499.000000      9.949874      0.999987      1.000000    499.000000   \n",
       "\n",
       "                 10            11            12            13            14  \\\n",
       "count  90000.000000  90000.000000  90000.000000  90000.000000  90000.000000   \n",
       "mean     249.818967    249.346778    249.899900      7.483940      7.498037   \n",
       "std      144.363827    144.476128    144.310495      4.330908      4.318388   \n",
       "min        0.000000      0.000000      0.000000      0.000095      0.000252   \n",
       "25%      126.000000    124.000000    125.000000      3.723392      3.763626   \n",
       "50%      250.000000    249.000000    251.000000      7.483265      7.505267   \n",
       "75%      375.000000    375.000000    375.000000     11.242883     11.228331   \n",
       "max      499.000000    499.000000    499.000000     14.999920     14.999938   \n",
       "\n",
       "                 15            16            17            18            19  \\\n",
       "count  90000.000000  90000.000000  90000.000000  90000.000000  90000.000000   \n",
       "mean       7.496259      7.501635      7.486463      7.523043      7.475585   \n",
       "std        4.338732      4.345618      4.318031      4.323500      4.327327   \n",
       "min        0.000190      0.000192      0.000067      0.000229      0.000125   \n",
       "25%        3.718755      3.719537      3.758746      3.778857      3.733780   \n",
       "50%        7.502682      7.515240      7.467721      7.539462      7.460267   \n",
       "75%       11.258049     11.284618     11.238904     11.254751     11.211187   \n",
       "max       14.999660     14.999979     14.999840     14.999857     14.999634   \n",
       "\n",
       "                 20            21            22            23            24  \\\n",
       "count  90000.000000  90000.000000  90000.000000  90000.000000  90000.000000   \n",
       "mean       7.494835      7.503939      7.507724      7.508681      7.472421   \n",
       "std        4.325447      4.330159      4.332599      4.328966      4.345228   \n",
       "min        0.000382      0.000398      0.000140      0.000382      0.000129   \n",
       "25%        3.748951      3.760261      3.742810      3.768145      3.685140   \n",
       "50%        7.481500      7.521563      7.520793      7.520739      7.484349   \n",
       "75%       11.238128     11.248749     11.244657     11.240915     11.239795   \n",
       "max       14.999953     14.999483     14.999762     14.999875     14.999987   \n",
       "\n",
       "                 25            26            27            28            29  \\\n",
       "count  90000.000000  90000.000000  90000.000000  90000.000000  90000.000000   \n",
       "mean       7.519205      7.515753      7.509402      7.496781      7.504014   \n",
       "std        4.339104      4.333907      4.331007      4.334982      4.318553   \n",
       "min        0.000192      0.000017      0.000080      0.000161      0.000437   \n",
       "25%        3.760790      3.746467      3.772795      3.741697      3.774239   \n",
       "50%        7.526894      7.528984      7.494876      7.491009      7.500083   \n",
       "75%       11.276738     11.272683     11.271486     11.257988     11.233189   \n",
       "max       14.999651     14.999995     14.999838     14.999958     14.999841   \n",
       "\n",
       "                 30            31            32            33            34  \\\n",
       "count  90000.000000  90000.000000  90000.000000  90000.000000  90000.000000   \n",
       "mean       7.494212      7.490808      7.486936      7.514508      7.491614   \n",
       "std        4.327286      4.322672      4.329524      4.329973      4.333144   \n",
       "min        0.000041      0.000070      0.000074      0.000111      0.000067   \n",
       "25%        3.743116      3.763061      3.750034      3.778028      3.743842   \n",
       "50%        7.514475      7.483334      7.458614      7.513794      7.475324   \n",
       "75%       11.223296     11.229486     11.245719     11.272623     11.241922   \n",
       "max       14.999808     14.999927     14.999896     14.999871     14.999558   \n",
       "\n",
       "                 35            36            37            38            39  \\\n",
       "count  90000.000000  90000.000000  90000.000000  90000.000000  90000.000000   \n",
       "mean       7.520193      7.507801      7.493713      7.513840      7.507033   \n",
       "std        4.335244      4.329515      4.327480      4.333543      4.327670   \n",
       "min        0.000078      0.000018      0.000094      0.000020      0.000106   \n",
       "25%        3.752848      3.776405      3.755325      3.754465      3.771945   \n",
       "50%        7.550623      7.484699      7.472789      7.518614      7.504101   \n",
       "75%       11.261178     11.255442     11.251097     11.270277     11.241504   \n",
       "max       14.999898     14.999997     14.999822     14.999958     14.999933   \n",
       "\n",
       "                 40            41            42            43            44  \\\n",
       "count  90000.000000  90000.000000  90000.000000  90000.000000  90000.000000   \n",
       "mean       7.479579      7.519826      7.502483      7.512965      7.475155   \n",
       "std        4.326175      4.315565      4.333881      4.329929      4.330410   \n",
       "min        0.000105      0.000273      0.000315      0.000060      0.000019   \n",
       "25%        3.731527      3.784809      3.763004      3.768044      3.707544   \n",
       "50%        7.452493      7.532363      7.511806      7.507058      7.474127   \n",
       "75%       11.222543     11.241135     11.255483     11.272459     11.216585   \n",
       "max       14.999704     14.999940     14.999739     14.999605     14.999900   \n",
       "\n",
       "                 45            46            47            48            49  \\\n",
       "count  90000.000000  90000.000000  90000.000000  90000.000000  90000.000000   \n",
       "mean       7.523962      7.508397      7.473322      7.490658      7.474578   \n",
       "std        4.321537      4.331761      4.335692      4.332122      4.323035   \n",
       "min        0.000040      0.000154      0.000083      0.000367      0.000014   \n",
       "25%        3.797002      3.760627      3.715721      3.739358      3.715298   \n",
       "50%        7.533987      7.505259      7.459774      7.494167      7.477270   \n",
       "75%       11.276349     11.261971     11.215637     11.239232     11.210070   \n",
       "max       14.999528     14.999733     14.999478     14.999869     14.999928   \n",
       "\n",
       "                 50            51            52        target  \n",
       "count  90000.000000  90000.000000  90000.000000  90000.000000  \n",
       "mean       7.509206      7.487159      7.513316     50.033981  \n",
       "std        4.326364      4.324876      4.333080     28.897243  \n",
       "min        0.000160      0.000147      0.000125      0.002634  \n",
       "25%        3.773381      3.743536      3.776322     25.091903  \n",
       "50%        7.512575      7.476564      7.506812     50.030705  \n",
       "75%       11.268156     11.234414     11.277835     75.059454  \n",
       "max       14.999948     14.999364     14.999775     99.999482  "
      ]
     },
     "execution_count": 7,
     "metadata": {},
     "output_type": "execute_result"
    }
   ],
   "source": [
    "# Short description of each numerical column in dataset\n",
    "pd.set_option('display.max_columns', None)\n",
    "quantum.describe()"
   ]
  },
  {
   "cell_type": "code",
   "execution_count": 8,
   "id": "582284db-8070-4eb2-9d80-23a67ccc446d",
   "metadata": {},
   "outputs": [
    {
     "data": {
      "text/plain": [
       "0         236.000000\n",
       "1         488.000000\n",
       "2          16.000000\n",
       "3         221.000000\n",
       "4         382.000000\n",
       "5          97.000000\n",
       "6          -4.472136\n",
       "7           0.107472\n",
       "8           0.000000\n",
       "9         132.000000\n",
       "10        281.000000\n",
       "11        336.000000\n",
       "12         99.000000\n",
       "13          3.880098\n",
       "14          1.797502\n",
       "15          3.252475\n",
       "16         12.131981\n",
       "17          3.091361\n",
       "18          5.630319\n",
       "19          4.466373\n",
       "20          2.511203\n",
       "21          5.982724\n",
       "22          4.541159\n",
       "23         12.740476\n",
       "24         12.634929\n",
       "25          4.050294\n",
       "26         11.827245\n",
       "27          3.568321\n",
       "28         13.420537\n",
       "29          8.251807\n",
       "30          2.287900\n",
       "31         14.834430\n",
       "32          0.082253\n",
       "33          2.975561\n",
       "34          5.223753\n",
       "35          1.212287\n",
       "36          7.302797\n",
       "37          7.083149\n",
       "38          3.610350\n",
       "39          7.767512\n",
       "40          7.829657\n",
       "41          8.395356\n",
       "42          1.583711\n",
       "43         10.125020\n",
       "44         13.340874\n",
       "45          0.870542\n",
       "46          1.962937\n",
       "47          7.466666\n",
       "48         11.547794\n",
       "49          8.822916\n",
       "50          9.046424\n",
       "51          7.895535\n",
       "52         11.010677\n",
       "target     20.107472\n",
       "Name: 0, dtype: float64"
      ]
     },
     "execution_count": 8,
     "metadata": {},
     "output_type": "execute_result"
    }
   ],
   "source": [
    "# Sample row based on index label\n",
    "quantum.loc[0]"
   ]
  },
  {
   "cell_type": "code",
   "execution_count": 9,
   "id": "17c8624e-5380-4e52-b4c4-ffb3a189ffce",
   "metadata": {},
   "outputs": [
    {
     "data": {
      "image/png": "[encoded data removed]",
      "text/plain": [
       "<Figure size 1152x864 with 2 Axes>"
      ]
     },
     "metadata": {
      "needs_background": "light"
     },
     "output_type": "display_data"
    }
   ],
   "source": [
    "# Looking for correlations between features\n",
    "correlation = quantum.corr(method = 'pearson')\n",
    "plt.figure(figsize = (16, 12))\n",
    "sns.heatmap(correlation, cmap = 'coolwarm', center = 0.0, cbar = True)\n",
    "plt.show()"
   ]
  },
  {
   "cell_type": "code",
   "execution_count": 10,
   "id": "8bae9e0c-18df-4262-9f89-4b4dd8d6a66c",
   "metadata": {},
   "outputs": [
    {
     "data": {
      "text/plain": [
       "(90000, 52)"
      ]
     },
     "execution_count": 10,
     "metadata": {},
     "output_type": "execute_result"
    }
   ],
   "source": [
    "# Dropping column '6' and '7' beacuse of high correlation\n",
    "new_quantum = quantum.drop(['6', '8'], axis=1)\n",
    "new_quantum.shape"
   ]
  },
  {
   "cell_type": "code",
   "execution_count": 11,
   "id": "e41b6b6f-9e79-45b5-baf0-1b9167d3bd98",
   "metadata": {},
   "outputs": [
    {
     "data": {
      "image/png": "[encoded data removed]",
      "text/plain": [
       "<Figure size 1440x864 with 56 Axes>"
      ]
     },
     "metadata": {
      "needs_background": "light"
     },
     "output_type": "display_data"
    }
   ],
   "source": [
    "new_quantum.hist(bins = 200, density = True, figsize = (20, 12))\n",
    "plt.tight_layout()\n",
    "plt.show()"
   ]
  },
  {
   "cell_type": "markdown",
   "id": "01b8b460-b26a-40ef-b34a-936cad670ddc",
   "metadata": {},
   "source": [
    "<h2>Building a model</h2>"
   ]
  },
  {
   "cell_type": "code",
   "execution_count": 127,
   "id": "17536e1a-82ff-418b-822f-1f3c2a8779eb",
   "metadata": {},
   "outputs": [
    {
     "data": {
      "text/plain": [
       "((72000, 53), (18000, 53), (72000,), (18000,))"
      ]
     },
     "execution_count": 127,
     "metadata": {},
     "output_type": "execute_result"
    }
   ],
   "source": [
    "data = quantum.values\n",
    "\n",
    "# Splitting dataset into train and test part (80% : 20%)\n",
    "X, y = data[:, :-1], data[:, -1]\n",
    "X_train, X_test, y_train, y_test = train_test_split(X, y, test_size = 0.2, random_state = 42)\n",
    "\n",
    "# Using standard scaler to normalize all features\n",
    "scaler = StandardScaler()\n",
    "X_train_norm, X_test_norm = scaler.fit_transform(X_train), scaler.fit_transform(X_test)\n",
    "\n",
    "X_train_norm.shape, X_test_norm.shape, y_train.shape, y_test.shape"
   ]
  },
  {
   "cell_type": "code",
   "execution_count": 128,
   "id": "ac18c948-0036-4d68-8b13-52efb1df602a",
   "metadata": {},
   "outputs": [
    {
     "data": {
      "text/plain": [
       "(array([ 0.80007951,  0.58413264, -0.65049342,  0.53556112, -0.02300454,\n",
       "        -0.21256958, -0.97005089,  0.77826027, -0.99689371,  0.87477971,\n",
       "         0.29905955, -0.9703165 , -0.8964331 ,  0.84809481,  0.49889938,\n",
       "         0.28766743,  0.47314826,  0.52912179,  1.4661463 , -1.26961323,\n",
       "        -1.29110363,  1.22546843, -1.15610073, -0.12351723,  1.3463846 ,\n",
       "        -0.48398761, -1.67454478,  0.09134502, -0.23771525,  1.54143462,\n",
       "         1.53072045,  1.40540351,  1.61220587,  1.6815696 ,  0.66744865,\n",
       "         1.15116869, -0.83443337,  0.9626543 ,  1.13664242, -0.69274382,\n",
       "         0.90664923,  1.00226263,  0.76920893,  1.24946747,  1.72383306,\n",
       "         1.35442006, -0.36002977, -1.29299627, -1.34545154, -0.83921315,\n",
       "         0.58542259, -0.03421435, -0.95565988]),\n",
       " array([-0.79865782,  0.1836997 ,  1.00835189,  1.07704257,  1.10963168,\n",
       "        -0.3979704 , -0.64217725, -0.20589527, -1.00434276,  0.17918538,\n",
       "        -1.59705986,  0.74098361,  0.61656784,  0.66271985,  0.14138934,\n",
       "        -0.35886291, -0.03002231, -0.55078357, -1.11869913, -0.16544434,\n",
       "        -1.17184815,  0.40337308,  0.17144038, -0.30448608,  1.14525212,\n",
       "         0.84059749,  1.49201841, -0.10421059, -0.93738828,  1.4449723 ,\n",
       "        -1.54821826,  1.45052961, -1.40709929, -1.44572856, -0.93150815,\n",
       "        -1.66920222,  0.8499189 , -0.87095483,  0.36137184,  0.92379573,\n",
       "         1.69636256,  0.30038348, -0.79588269, -1.13889125, -1.26101339,\n",
       "        -1.13852106,  1.00709809,  1.65634523, -0.60274156,  0.98530892,\n",
       "        -0.80203623,  0.22455615, -0.8702728 ]))"
      ]
     },
     "execution_count": 128,
     "metadata": {},
     "output_type": "execute_result"
    }
   ],
   "source": [
    "X_train_norm[0], X_test_norm[0]"
   ]
  },
  {
   "cell_type": "markdown",
   "id": "9b045014-f9c4-48ca-a2ec-e0c280aa1bad",
   "metadata": {},
   "source": [
    "<h3>SGDRegressor</h3>"
   ]
  },
  {
   "cell_type": "code",
   "execution_count": 129,
   "id": "5d89cda1-42fd-43c2-8d6f-83804dbe82e6",
   "metadata": {},
   "outputs": [
    {
     "data": {
      "text/html": [
       "<style>#sk-container-id-29 {color: black;background-color: white;}#sk-container-id-29 pre{padding: 0;}#sk-container-id-29 div.sk-toggleable {background-color: white;}#sk-container-id-29 label.sk-toggleable__label {cursor: pointer;display: block;width: 100%;margin-bottom: 0;padding: 0.3em;box-sizing: border-box;text-align: center;}#sk-container-id-29 label.sk-toggleable__label-arrow:before {content: \"▸\";float: left;margin-right: 0.25em;color: #696969;}#sk-container-id-29 label.sk-toggleable__label-arrow:hover:before {color: black;}#sk-container-id-29 div.sk-estimator:hover label.sk-toggleable__label-arrow:before {color: black;}#sk-container-id-29 div.sk-toggleable__content {max-height: 0;max-width: 0;overflow: hidden;text-align: left;background-color: #f0f8ff;}#sk-container-id-29 div.sk-toggleable__content pre {margin: 0.2em;color: black;border-radius: 0.25em;background-color: #f0f8ff;}#sk-container-id-29 input.sk-toggleable__control:checked~div.sk-toggleable__content {max-height: 200px;max-width: 100%;overflow: auto;}#sk-container-id-29 input.sk-toggleable__control:checked~label.sk-toggleable__label-arrow:before {content: \"▾\";}#sk-container-id-29 div.sk-estimator input.sk-toggleable__control:checked~label.sk-toggleable__label {background-color: #d4ebff;}#sk-container-id-29 div.sk-label input.sk-toggleable__control:checked~label.sk-toggleable__label {background-color: #d4ebff;}#sk-container-id-29 input.sk-hidden--visually {border: 0;clip: rect(1px 1px 1px 1px);clip: rect(1px, 1px, 1px, 1px);height: 1px;margin: -1px;overflow: hidden;padding: 0;position: absolute;width: 1px;}#sk-container-id-29 div.sk-estimator {font-family: monospace;background-color: #f0f8ff;border: 1px dotted black;border-radius: 0.25em;box-sizing: border-box;margin-bottom: 0.5em;}#sk-container-id-29 div.sk-estimator:hover {background-color: #d4ebff;}#sk-container-id-29 div.sk-parallel-item::after {content: \"\";width: 100%;border-bottom: 1px solid gray;flex-grow: 1;}#sk-container-id-29 div.sk-label:hover label.sk-toggleable__label {background-color: #d4ebff;}#sk-container-id-29 div.sk-serial::before {content: \"\";position: absolute;border-left: 1px solid gray;box-sizing: border-box;top: 0;bottom: 0;left: 50%;z-index: 0;}#sk-container-id-29 div.sk-serial {display: flex;flex-direction: column;align-items: center;background-color: white;padding-right: 0.2em;padding-left: 0.2em;position: relative;}#sk-container-id-29 div.sk-item {position: relative;z-index: 1;}#sk-container-id-29 div.sk-parallel {display: flex;align-items: stretch;justify-content: center;background-color: white;position: relative;}#sk-container-id-29 div.sk-item::before, #sk-container-id-29 div.sk-parallel-item::before {content: \"\";position: absolute;border-left: 1px solid gray;box-sizing: border-box;top: 0;bottom: 0;left: 50%;z-index: -1;}#sk-container-id-29 div.sk-parallel-item {display: flex;flex-direction: column;z-index: 1;position: relative;background-color: white;}#sk-container-id-29 div.sk-parallel-item:first-child::after {align-self: flex-end;width: 50%;}#sk-container-id-29 div.sk-parallel-item:last-child::after {align-self: flex-start;width: 50%;}#sk-container-id-29 div.sk-parallel-item:only-child::after {width: 0;}#sk-container-id-29 div.sk-dashed-wrapped {border: 1px dashed gray;margin: 0 0.4em 0.5em 0.4em;box-sizing: border-box;padding-bottom: 0.4em;background-color: white;}#sk-container-id-29 div.sk-label label {font-family: monospace;font-weight: bold;display: inline-block;line-height: 1.2em;}#sk-container-id-29 div.sk-label-container {text-align: center;}#sk-container-id-29 div.sk-container {/* jupyter's `normalize.less` sets `[hidden] { display: none; }` but bootstrap.min.css set `[hidden] { display: none !important; }` so we also need the `!important` here to be able to override the default hidden behavior on the sphinx rendered scikit-learn.org. See: https://github.com/scikit-learn/scikit-learn/issues/21755 */display: inline-block !important;position: relative;}#sk-container-id-29 div.sk-text-repr-fallback {display: none;}</style><div id=\"sk-container-id-29\" class=\"sk-top-container\"><div class=\"sk-text-repr-fallback\"><pre>SGDRegressor()</pre><b>In a Jupyter environment, please rerun this cell to show the HTML representation or trust the notebook. <br />On GitHub, the HTML representation is unable to render, please try loading this page with nbviewer.org.</b></div><div class=\"sk-container\" hidden><div class=\"sk-item\"><div class=\"sk-estimator sk-toggleable\"><input class=\"sk-toggleable__control sk-hidden--visually\" id=\"sk-estimator-id-77\" type=\"checkbox\" checked><label for=\"sk-estimator-id-77\" class=\"sk-toggleable__label sk-toggleable__label-arrow\">SGDRegressor</label><div class=\"sk-toggleable__content\"><pre>SGDRegressor()</pre></div></div></div></div></div>"
      ],
      "text/plain": [
       "SGDRegressor()"
      ]
     },
     "execution_count": 129,
     "metadata": {},
     "output_type": "execute_result"
    }
   ],
   "source": [
    "sgdr = SGDRegressor(max_iter = 1000)\n",
    "sgdr.fit(X_train_norm, y_train)"
   ]
  },
  {
   "cell_type": "code",
   "execution_count": 130,
   "id": "5fdedfde-b94b-4224-a23e-085eb4d53c9e",
   "metadata": {},
   "outputs": [
    {
     "data": {
      "text/plain": [
       "-0.006529145328927566"
      ]
     },
     "execution_count": 130,
     "metadata": {},
     "output_type": "execute_result"
    }
   ],
   "source": [
    "sgdr.score(X_test_norm, y_test)"
   ]
  },
  {
   "cell_type": "code",
   "execution_count": 131,
   "id": "beb3a0e9-e305-4d97-91d4-42a6489eb290",
   "metadata": {},
   "outputs": [
    {
     "data": {
      "text/plain": [
       "29.09450513153763"
      ]
     },
     "execution_count": 131,
     "metadata": {},
     "output_type": "execute_result"
    }
   ],
   "source": [
    "y_pred = sgdr.predict(X_test_norm)\n",
    "rmse = np.sqrt(mean_squared_error(y_test, y_pred))\n",
    "rmse"
   ]
  },
  {
   "cell_type": "code",
   "execution_count": 132,
   "id": "3b6bbe0d-fac3-4125-b1b1-bd71f51f5bef",
   "metadata": {},
   "outputs": [
    {
     "name": "stdout",
     "output_type": "stream",
     "text": [
      "          Actual  Predicted\n",
      "14342   0.008721  51.091395\n",
      "13779   0.014745  51.632883\n",
      "8954    0.025718  48.180618\n",
      "5250    0.026404  52.205140\n",
      "7101    0.027460  49.687063\n",
      "...          ...        ...\n",
      "11329  99.973588  49.232637\n",
      "10708  99.978566  47.330505\n",
      "287    99.983913  51.485648\n",
      "1103   99.997653  54.325117\n",
      "8842   99.997926  52.535739\n",
      "\n",
      "[18000 rows x 2 columns]\n"
     ]
    }
   ],
   "source": [
    "df_preds = pd.DataFrame({'Actual': y_test.squeeze(), 'Predicted': y_pred.squeeze()})\n",
    "print(df_preds.sort_values(by = 'Actual'))"
   ]
  },
  {
   "cell_type": "markdown",
   "id": "fe02ee2b-7dda-44ac-9a6b-6ecfdd07694e",
   "metadata": {},
   "source": [
    "<h3>Linear Regression</h3>"
   ]
  },
  {
   "cell_type": "code",
   "execution_count": 133,
   "id": "4a76334e-c0b0-48a3-a291-13076a62030e",
   "metadata": {},
   "outputs": [
    {
     "data": {
      "text/html": [
       "<style>#sk-container-id-30 {color: black;background-color: white;}#sk-container-id-30 pre{padding: 0;}#sk-container-id-30 div.sk-toggleable {background-color: white;}#sk-container-id-30 label.sk-toggleable__label {cursor: pointer;display: block;width: 100%;margin-bottom: 0;padding: 0.3em;box-sizing: border-box;text-align: center;}#sk-container-id-30 label.sk-toggleable__label-arrow:before {content: \"▸\";float: left;margin-right: 0.25em;color: #696969;}#sk-container-id-30 label.sk-toggleable__label-arrow:hover:before {color: black;}#sk-container-id-30 div.sk-estimator:hover label.sk-toggleable__label-arrow:before {color: black;}#sk-container-id-30 div.sk-toggleable__content {max-height: 0;max-width: 0;overflow: hidden;text-align: left;background-color: #f0f8ff;}#sk-container-id-30 div.sk-toggleable__content pre {margin: 0.2em;color: black;border-radius: 0.25em;background-color: #f0f8ff;}#sk-container-id-30 input.sk-toggleable__control:checked~div.sk-toggleable__content {max-height: 200px;max-width: 100%;overflow: auto;}#sk-container-id-30 input.sk-toggleable__control:checked~label.sk-toggleable__label-arrow:before {content: \"▾\";}#sk-container-id-30 div.sk-estimator input.sk-toggleable__control:checked~label.sk-toggleable__label {background-color: #d4ebff;}#sk-container-id-30 div.sk-label input.sk-toggleable__control:checked~label.sk-toggleable__label {background-color: #d4ebff;}#sk-container-id-30 input.sk-hidden--visually {border: 0;clip: rect(1px 1px 1px 1px);clip: rect(1px, 1px, 1px, 1px);height: 1px;margin: -1px;overflow: hidden;padding: 0;position: absolute;width: 1px;}#sk-container-id-30 div.sk-estimator {font-family: monospace;background-color: #f0f8ff;border: 1px dotted black;border-radius: 0.25em;box-sizing: border-box;margin-bottom: 0.5em;}#sk-container-id-30 div.sk-estimator:hover {background-color: #d4ebff;}#sk-container-id-30 div.sk-parallel-item::after {content: \"\";width: 100%;border-bottom: 1px solid gray;flex-grow: 1;}#sk-container-id-30 div.sk-label:hover label.sk-toggleable__label {background-color: #d4ebff;}#sk-container-id-30 div.sk-serial::before {content: \"\";position: absolute;border-left: 1px solid gray;box-sizing: border-box;top: 0;bottom: 0;left: 50%;z-index: 0;}#sk-container-id-30 div.sk-serial {display: flex;flex-direction: column;align-items: center;background-color: white;padding-right: 0.2em;padding-left: 0.2em;position: relative;}#sk-container-id-30 div.sk-item {position: relative;z-index: 1;}#sk-container-id-30 div.sk-parallel {display: flex;align-items: stretch;justify-content: center;background-color: white;position: relative;}#sk-container-id-30 div.sk-item::before, #sk-container-id-30 div.sk-parallel-item::before {content: \"\";position: absolute;border-left: 1px solid gray;box-sizing: border-box;top: 0;bottom: 0;left: 50%;z-index: -1;}#sk-container-id-30 div.sk-parallel-item {display: flex;flex-direction: column;z-index: 1;position: relative;background-color: white;}#sk-container-id-30 div.sk-parallel-item:first-child::after {align-self: flex-end;width: 50%;}#sk-container-id-30 div.sk-parallel-item:last-child::after {align-self: flex-start;width: 50%;}#sk-container-id-30 div.sk-parallel-item:only-child::after {width: 0;}#sk-container-id-30 div.sk-dashed-wrapped {border: 1px dashed gray;margin: 0 0.4em 0.5em 0.4em;box-sizing: border-box;padding-bottom: 0.4em;background-color: white;}#sk-container-id-30 div.sk-label label {font-family: monospace;font-weight: bold;display: inline-block;line-height: 1.2em;}#sk-container-id-30 div.sk-label-container {text-align: center;}#sk-container-id-30 div.sk-container {/* jupyter's `normalize.less` sets `[hidden] { display: none; }` but bootstrap.min.css set `[hidden] { display: none !important; }` so we also need the `!important` here to be able to override the default hidden behavior on the sphinx rendered scikit-learn.org. See: https://github.com/scikit-learn/scikit-learn/issues/21755 */display: inline-block !important;position: relative;}#sk-container-id-30 div.sk-text-repr-fallback {display: none;}</style><div id=\"sk-container-id-30\" class=\"sk-top-container\"><div class=\"sk-text-repr-fallback\"><pre>LinearRegression()</pre><b>In a Jupyter environment, please rerun this cell to show the HTML representation or trust the notebook. <br />On GitHub, the HTML representation is unable to render, please try loading this page with nbviewer.org.</b></div><div class=\"sk-container\" hidden><div class=\"sk-item\"><div class=\"sk-estimator sk-toggleable\"><input class=\"sk-toggleable__control sk-hidden--visually\" id=\"sk-estimator-id-78\" type=\"checkbox\" checked><label for=\"sk-estimator-id-78\" class=\"sk-toggleable__label sk-toggleable__label-arrow\">LinearRegression</label><div class=\"sk-toggleable__content\"><pre>LinearRegression()</pre></div></div></div></div></div>"
      ],
      "text/plain": [
       "LinearRegression()"
      ]
     },
     "execution_count": 133,
     "metadata": {},
     "output_type": "execute_result"
    }
   ],
   "source": [
    "# Simple linear regression\n",
    "linear_model = LinearRegression()\n",
    "linear_model.fit(X_train_norm, y_train)"
   ]
  },
  {
   "cell_type": "code",
   "execution_count": 134,
   "id": "eaee3880-aad3-426c-b54b-4876df923b5c",
   "metadata": {},
   "outputs": [
    {
     "data": {
      "text/plain": [
       "-0.001060583630946299"
      ]
     },
     "execution_count": 134,
     "metadata": {},
     "output_type": "execute_result"
    }
   ],
   "source": [
    "linear_model.score(X_test_norm, y_test)"
   ]
  },
  {
   "cell_type": "code",
   "execution_count": 136,
   "id": "70bf5dd4-03aa-4e98-a0ea-6326e6c971de",
   "metadata": {},
   "outputs": [
    {
     "data": {
      "text/html": [
       "<style>#sk-container-id-31 {color: black;background-color: white;}#sk-container-id-31 pre{padding: 0;}#sk-container-id-31 div.sk-toggleable {background-color: white;}#sk-container-id-31 label.sk-toggleable__label {cursor: pointer;display: block;width: 100%;margin-bottom: 0;padding: 0.3em;box-sizing: border-box;text-align: center;}#sk-container-id-31 label.sk-toggleable__label-arrow:before {content: \"▸\";float: left;margin-right: 0.25em;color: #696969;}#sk-container-id-31 label.sk-toggleable__label-arrow:hover:before {color: black;}#sk-container-id-31 div.sk-estimator:hover label.sk-toggleable__label-arrow:before {color: black;}#sk-container-id-31 div.sk-toggleable__content {max-height: 0;max-width: 0;overflow: hidden;text-align: left;background-color: #f0f8ff;}#sk-container-id-31 div.sk-toggleable__content pre {margin: 0.2em;color: black;border-radius: 0.25em;background-color: #f0f8ff;}#sk-container-id-31 input.sk-toggleable__control:checked~div.sk-toggleable__content {max-height: 200px;max-width: 100%;overflow: auto;}#sk-container-id-31 input.sk-toggleable__control:checked~label.sk-toggleable__label-arrow:before {content: \"▾\";}#sk-container-id-31 div.sk-estimator input.sk-toggleable__control:checked~label.sk-toggleable__label {background-color: #d4ebff;}#sk-container-id-31 div.sk-label input.sk-toggleable__control:checked~label.sk-toggleable__label {background-color: #d4ebff;}#sk-container-id-31 input.sk-hidden--visually {border: 0;clip: rect(1px 1px 1px 1px);clip: rect(1px, 1px, 1px, 1px);height: 1px;margin: -1px;overflow: hidden;padding: 0;position: absolute;width: 1px;}#sk-container-id-31 div.sk-estimator {font-family: monospace;background-color: #f0f8ff;border: 1px dotted black;border-radius: 0.25em;box-sizing: border-box;margin-bottom: 0.5em;}#sk-container-id-31 div.sk-estimator:hover {background-color: #d4ebff;}#sk-container-id-31 div.sk-parallel-item::after {content: \"\";width: 100%;border-bottom: 1px solid gray;flex-grow: 1;}#sk-container-id-31 div.sk-label:hover label.sk-toggleable__label {background-color: #d4ebff;}#sk-container-id-31 div.sk-serial::before {content: \"\";position: absolute;border-left: 1px solid gray;box-sizing: border-box;top: 0;bottom: 0;left: 50%;z-index: 0;}#sk-container-id-31 div.sk-serial {display: flex;flex-direction: column;align-items: center;background-color: white;padding-right: 0.2em;padding-left: 0.2em;position: relative;}#sk-container-id-31 div.sk-item {position: relative;z-index: 1;}#sk-container-id-31 div.sk-parallel {display: flex;align-items: stretch;justify-content: center;background-color: white;position: relative;}#sk-container-id-31 div.sk-item::before, #sk-container-id-31 div.sk-parallel-item::before {content: \"\";position: absolute;border-left: 1px solid gray;box-sizing: border-box;top: 0;bottom: 0;left: 50%;z-index: -1;}#sk-container-id-31 div.sk-parallel-item {display: flex;flex-direction: column;z-index: 1;position: relative;background-color: white;}#sk-container-id-31 div.sk-parallel-item:first-child::after {align-self: flex-end;width: 50%;}#sk-container-id-31 div.sk-parallel-item:last-child::after {align-self: flex-start;width: 50%;}#sk-container-id-31 div.sk-parallel-item:only-child::after {width: 0;}#sk-container-id-31 div.sk-dashed-wrapped {border: 1px dashed gray;margin: 0 0.4em 0.5em 0.4em;box-sizing: border-box;padding-bottom: 0.4em;background-color: white;}#sk-container-id-31 div.sk-label label {font-family: monospace;font-weight: bold;display: inline-block;line-height: 1.2em;}#sk-container-id-31 div.sk-label-container {text-align: center;}#sk-container-id-31 div.sk-container {/* jupyter's `normalize.less` sets `[hidden] { display: none; }` but bootstrap.min.css set `[hidden] { display: none !important; }` so we also need the `!important` here to be able to override the default hidden behavior on the sphinx rendered scikit-learn.org. See: https://github.com/scikit-learn/scikit-learn/issues/21755 */display: inline-block !important;position: relative;}#sk-container-id-31 div.sk-text-repr-fallback {display: none;}</style><div id=\"sk-container-id-31\" class=\"sk-top-container\"><div class=\"sk-text-repr-fallback\"><pre>Pipeline(steps=[(&#x27;polynomialfeatures&#x27;, PolynomialFeatures()),\n",
       "                (&#x27;linearregression&#x27;, LinearRegression())])</pre><b>In a Jupyter environment, please rerun this cell to show the HTML representation or trust the notebook. <br />On GitHub, the HTML representation is unable to render, please try loading this page with nbviewer.org.</b></div><div class=\"sk-container\" hidden><div class=\"sk-item sk-dashed-wrapped\"><div class=\"sk-label-container\"><div class=\"sk-label sk-toggleable\"><input class=\"sk-toggleable__control sk-hidden--visually\" id=\"sk-estimator-id-79\" type=\"checkbox\" ><label for=\"sk-estimator-id-79\" class=\"sk-toggleable__label sk-toggleable__label-arrow\">Pipeline</label><div class=\"sk-toggleable__content\"><pre>Pipeline(steps=[(&#x27;polynomialfeatures&#x27;, PolynomialFeatures()),\n",
       "                (&#x27;linearregression&#x27;, LinearRegression())])</pre></div></div></div><div class=\"sk-serial\"><div class=\"sk-item\"><div class=\"sk-estimator sk-toggleable\"><input class=\"sk-toggleable__control sk-hidden--visually\" id=\"sk-estimator-id-80\" type=\"checkbox\" ><label for=\"sk-estimator-id-80\" class=\"sk-toggleable__label sk-toggleable__label-arrow\">PolynomialFeatures</label><div class=\"sk-toggleable__content\"><pre>PolynomialFeatures()</pre></div></div></div><div class=\"sk-item\"><div class=\"sk-estimator sk-toggleable\"><input class=\"sk-toggleable__control sk-hidden--visually\" id=\"sk-estimator-id-81\" type=\"checkbox\" ><label for=\"sk-estimator-id-81\" class=\"sk-toggleable__label sk-toggleable__label-arrow\">LinearRegression</label><div class=\"sk-toggleable__content\"><pre>LinearRegression()</pre></div></div></div></div></div></div></div>"
      ],
      "text/plain": [
       "Pipeline(steps=[('polynomialfeatures', PolynomialFeatures()),\n",
       "                ('linearregression', LinearRegression())])"
      ]
     },
     "execution_count": 136,
     "metadata": {},
     "output_type": "execute_result"
    }
   ],
   "source": [
    "# Transform data ones more using polynomial and interaction features\n",
    "linear_poly_model = make_pipeline(PolynomialFeatures(), LinearRegression())\n",
    "linear_poly_model.fit(X_train_norm, y_train)"
   ]
  },
  {
   "cell_type": "code",
   "execution_count": 140,
   "id": "805139a7-a1a0-45ad-ba2b-f21aab11550d",
   "metadata": {},
   "outputs": [
    {
     "data": {
      "text/plain": [
       "0.999024419486802"
      ]
     },
     "execution_count": 140,
     "metadata": {},
     "output_type": "execute_result"
    }
   ],
   "source": [
    "linear_poly_model.score(X_test_norm, y_test)"
   ]
  },
  {
   "cell_type": "code",
   "execution_count": 201,
   "id": "639187f3-0fd6-40b1-804d-3ff1cae2aef9",
   "metadata": {},
   "outputs": [
    {
     "data": {
      "text/plain": [
       "0.9057938249310806"
      ]
     },
     "execution_count": 201,
     "metadata": {},
     "output_type": "execute_result"
    }
   ],
   "source": [
    "y_pred_linear_poly = linear_poly_model.predict(X_test_norm)\n",
    "rmse_linear_poly = np.sqrt(mean_squared_error(y_test, y_pred_linear_poly))\n",
    "rmse_linear_poly"
   ]
  },
  {
   "cell_type": "code",
   "execution_count": 144,
   "id": "456567b9-af6e-4bd5-905e-c971592e7db1",
   "metadata": {},
   "outputs": [
    {
     "name": "stdout",
     "output_type": "stream",
     "text": [
      "          Actual   Predicted\n",
      "14342   0.008721    0.023842\n",
      "13779   0.014745    0.029894\n",
      "8954    0.025718    0.011092\n",
      "5250    0.026404    0.011781\n",
      "7101    0.027460    0.042668\n",
      "...          ...         ...\n",
      "11329  99.973588  101.960778\n",
      "10708  99.978566  101.965780\n",
      "287    99.983913  101.971151\n",
      "1103   99.997653   99.925935\n",
      "8842   99.997926  101.985228\n",
      "\n",
      "[18000 rows x 2 columns]\n"
     ]
    }
   ],
   "source": [
    "df_preds = pd.DataFrame({'Actual': y_test.squeeze(), 'Predicted': y_pred_linear_poly.squeeze()})\n",
    "print(df_preds.sort_values(by = 'Actual'))"
   ]
  },
  {
   "cell_type": "markdown",
   "id": "d5b22910-53c6-4481-849f-b7bff0b4cc5a",
   "metadata": {},
   "source": [
    "<h3>Lasso Regression</h3>"
   ]
  },
  {
   "cell_type": "code",
   "execution_count": 157,
   "id": "4c4684fc-5d60-4beb-a792-e53a4105c809",
   "metadata": {},
   "outputs": [
    {
     "data": {
      "text/html": [
       "<style>#sk-container-id-36 {color: black;background-color: white;}#sk-container-id-36 pre{padding: 0;}#sk-container-id-36 div.sk-toggleable {background-color: white;}#sk-container-id-36 label.sk-toggleable__label {cursor: pointer;display: block;width: 100%;margin-bottom: 0;padding: 0.3em;box-sizing: border-box;text-align: center;}#sk-container-id-36 label.sk-toggleable__label-arrow:before {content: \"▸\";float: left;margin-right: 0.25em;color: #696969;}#sk-container-id-36 label.sk-toggleable__label-arrow:hover:before {color: black;}#sk-container-id-36 div.sk-estimator:hover label.sk-toggleable__label-arrow:before {color: black;}#sk-container-id-36 div.sk-toggleable__content {max-height: 0;max-width: 0;overflow: hidden;text-align: left;background-color: #f0f8ff;}#sk-container-id-36 div.sk-toggleable__content pre {margin: 0.2em;color: black;border-radius: 0.25em;background-color: #f0f8ff;}#sk-container-id-36 input.sk-toggleable__control:checked~div.sk-toggleable__content {max-height: 200px;max-width: 100%;overflow: auto;}#sk-container-id-36 input.sk-toggleable__control:checked~label.sk-toggleable__label-arrow:before {content: \"▾\";}#sk-container-id-36 div.sk-estimator input.sk-toggleable__control:checked~label.sk-toggleable__label {background-color: #d4ebff;}#sk-container-id-36 div.sk-label input.sk-toggleable__control:checked~label.sk-toggleable__label {background-color: #d4ebff;}#sk-container-id-36 input.sk-hidden--visually {border: 0;clip: rect(1px 1px 1px 1px);clip: rect(1px, 1px, 1px, 1px);height: 1px;margin: -1px;overflow: hidden;padding: 0;position: absolute;width: 1px;}#sk-container-id-36 div.sk-estimator {font-family: monospace;background-color: #f0f8ff;border: 1px dotted black;border-radius: 0.25em;box-sizing: border-box;margin-bottom: 0.5em;}#sk-container-id-36 div.sk-estimator:hover {background-color: #d4ebff;}#sk-container-id-36 div.sk-parallel-item::after {content: \"\";width: 100%;border-bottom: 1px solid gray;flex-grow: 1;}#sk-container-id-36 div.sk-label:hover label.sk-toggleable__label {background-color: #d4ebff;}#sk-container-id-36 div.sk-serial::before {content: \"\";position: absolute;border-left: 1px solid gray;box-sizing: border-box;top: 0;bottom: 0;left: 50%;z-index: 0;}#sk-container-id-36 div.sk-serial {display: flex;flex-direction: column;align-items: center;background-color: white;padding-right: 0.2em;padding-left: 0.2em;position: relative;}#sk-container-id-36 div.sk-item {position: relative;z-index: 1;}#sk-container-id-36 div.sk-parallel {display: flex;align-items: stretch;justify-content: center;background-color: white;position: relative;}#sk-container-id-36 div.sk-item::before, #sk-container-id-36 div.sk-parallel-item::before {content: \"\";position: absolute;border-left: 1px solid gray;box-sizing: border-box;top: 0;bottom: 0;left: 50%;z-index: -1;}#sk-container-id-36 div.sk-parallel-item {display: flex;flex-direction: column;z-index: 1;position: relative;background-color: white;}#sk-container-id-36 div.sk-parallel-item:first-child::after {align-self: flex-end;width: 50%;}#sk-container-id-36 div.sk-parallel-item:last-child::after {align-self: flex-start;width: 50%;}#sk-container-id-36 div.sk-parallel-item:only-child::after {width: 0;}#sk-container-id-36 div.sk-dashed-wrapped {border: 1px dashed gray;margin: 0 0.4em 0.5em 0.4em;box-sizing: border-box;padding-bottom: 0.4em;background-color: white;}#sk-container-id-36 div.sk-label label {font-family: monospace;font-weight: bold;display: inline-block;line-height: 1.2em;}#sk-container-id-36 div.sk-label-container {text-align: center;}#sk-container-id-36 div.sk-container {/* jupyter's `normalize.less` sets `[hidden] { display: none; }` but bootstrap.min.css set `[hidden] { display: none !important; }` so we also need the `!important` here to be able to override the default hidden behavior on the sphinx rendered scikit-learn.org. See: https://github.com/scikit-learn/scikit-learn/issues/21755 */display: inline-block !important;position: relative;}#sk-container-id-36 div.sk-text-repr-fallback {display: none;}</style><div id=\"sk-container-id-36\" class=\"sk-top-container\"><div class=\"sk-text-repr-fallback\"><pre>Pipeline(steps=[(&#x27;polynomialfeatures&#x27;, PolynomialFeatures()),\n",
       "                (&#x27;lasso&#x27;, Lasso(alpha=0.05, max_iter=100000))])</pre><b>In a Jupyter environment, please rerun this cell to show the HTML representation or trust the notebook. <br />On GitHub, the HTML representation is unable to render, please try loading this page with nbviewer.org.</b></div><div class=\"sk-container\" hidden><div class=\"sk-item sk-dashed-wrapped\"><div class=\"sk-label-container\"><div class=\"sk-label sk-toggleable\"><input class=\"sk-toggleable__control sk-hidden--visually\" id=\"sk-estimator-id-94\" type=\"checkbox\" ><label for=\"sk-estimator-id-94\" class=\"sk-toggleable__label sk-toggleable__label-arrow\">Pipeline</label><div class=\"sk-toggleable__content\"><pre>Pipeline(steps=[(&#x27;polynomialfeatures&#x27;, PolynomialFeatures()),\n",
       "                (&#x27;lasso&#x27;, Lasso(alpha=0.05, max_iter=100000))])</pre></div></div></div><div class=\"sk-serial\"><div class=\"sk-item\"><div class=\"sk-estimator sk-toggleable\"><input class=\"sk-toggleable__control sk-hidden--visually\" id=\"sk-estimator-id-95\" type=\"checkbox\" ><label for=\"sk-estimator-id-95\" class=\"sk-toggleable__label sk-toggleable__label-arrow\">PolynomialFeatures</label><div class=\"sk-toggleable__content\"><pre>PolynomialFeatures()</pre></div></div></div><div class=\"sk-item\"><div class=\"sk-estimator sk-toggleable\"><input class=\"sk-toggleable__control sk-hidden--visually\" id=\"sk-estimator-id-96\" type=\"checkbox\" ><label for=\"sk-estimator-id-96\" class=\"sk-toggleable__label sk-toggleable__label-arrow\">Lasso</label><div class=\"sk-toggleable__content\"><pre>Lasso(alpha=0.05, max_iter=100000)</pre></div></div></div></div></div></div></div>"
      ],
      "text/plain": [
       "Pipeline(steps=[('polynomialfeatures', PolynomialFeatures()),\n",
       "                ('lasso', Lasso(alpha=0.05, max_iter=100000))])"
      ]
     },
     "execution_count": 157,
     "metadata": {},
     "output_type": "execute_result"
    }
   ],
   "source": [
    "lasso_model = make_pipeline(PolynomialFeatures(), Lasso(alpha = 0.05, max_iter = 100_000))\n",
    "lasso_model.fit(X_train_norm, y_train)"
   ]
  },
  {
   "cell_type": "code",
   "execution_count": 158,
   "id": "b57df926-4cb4-4b27-ac71-058f1182aea8",
   "metadata": {},
   "outputs": [
    {
     "data": {
      "text/plain": [
       "0.9991333870692708"
      ]
     },
     "execution_count": 158,
     "metadata": {},
     "output_type": "execute_result"
    }
   ],
   "source": [
    "lasso_model.score(X_test_norm, y_test)"
   ]
  },
  {
   "cell_type": "code",
   "execution_count": 200,
   "id": "04b80347-5c50-47ed-8ee2-75c37a777ccd",
   "metadata": {},
   "outputs": [
    {
     "data": {
      "text/plain": [
       "0.853710021686053"
      ]
     },
     "execution_count": 200,
     "metadata": {},
     "output_type": "execute_result"
    }
   ],
   "source": [
    "y_pred_lasso = lasso_model.predict(X_test_norm)\n",
    "rmse_lasso = np.sqrt(mean_squared_error(y_test, y_pred_lasso))\n",
    "rmse_lasso"
   ]
  },
  {
   "cell_type": "markdown",
   "id": "27d88b4a-c8f8-4a29-bd6a-d7bd50dd364d",
   "metadata": {},
   "source": [
    "<h3>Ridge Regression</h3>"
   ]
  },
  {
   "cell_type": "code",
   "execution_count": 166,
   "id": "7a564063-22a5-46c9-8936-dab925a914b2",
   "metadata": {},
   "outputs": [
    {
     "data": {
      "text/html": [
       "<style>#sk-container-id-39 {color: black;background-color: white;}#sk-container-id-39 pre{padding: 0;}#sk-container-id-39 div.sk-toggleable {background-color: white;}#sk-container-id-39 label.sk-toggleable__label {cursor: pointer;display: block;width: 100%;margin-bottom: 0;padding: 0.3em;box-sizing: border-box;text-align: center;}#sk-container-id-39 label.sk-toggleable__label-arrow:before {content: \"▸\";float: left;margin-right: 0.25em;color: #696969;}#sk-container-id-39 label.sk-toggleable__label-arrow:hover:before {color: black;}#sk-container-id-39 div.sk-estimator:hover label.sk-toggleable__label-arrow:before {color: black;}#sk-container-id-39 div.sk-toggleable__content {max-height: 0;max-width: 0;overflow: hidden;text-align: left;background-color: #f0f8ff;}#sk-container-id-39 div.sk-toggleable__content pre {margin: 0.2em;color: black;border-radius: 0.25em;background-color: #f0f8ff;}#sk-container-id-39 input.sk-toggleable__control:checked~div.sk-toggleable__content {max-height: 200px;max-width: 100%;overflow: auto;}#sk-container-id-39 input.sk-toggleable__control:checked~label.sk-toggleable__label-arrow:before {content: \"▾\";}#sk-container-id-39 div.sk-estimator input.sk-toggleable__control:checked~label.sk-toggleable__label {background-color: #d4ebff;}#sk-container-id-39 div.sk-label input.sk-toggleable__control:checked~label.sk-toggleable__label {background-color: #d4ebff;}#sk-container-id-39 input.sk-hidden--visually {border: 0;clip: rect(1px 1px 1px 1px);clip: rect(1px, 1px, 1px, 1px);height: 1px;margin: -1px;overflow: hidden;padding: 0;position: absolute;width: 1px;}#sk-container-id-39 div.sk-estimator {font-family: monospace;background-color: #f0f8ff;border: 1px dotted black;border-radius: 0.25em;box-sizing: border-box;margin-bottom: 0.5em;}#sk-container-id-39 div.sk-estimator:hover {background-color: #d4ebff;}#sk-container-id-39 div.sk-parallel-item::after {content: \"\";width: 100%;border-bottom: 1px solid gray;flex-grow: 1;}#sk-container-id-39 div.sk-label:hover label.sk-toggleable__label {background-color: #d4ebff;}#sk-container-id-39 div.sk-serial::before {content: \"\";position: absolute;border-left: 1px solid gray;box-sizing: border-box;top: 0;bottom: 0;left: 50%;z-index: 0;}#sk-container-id-39 div.sk-serial {display: flex;flex-direction: column;align-items: center;background-color: white;padding-right: 0.2em;padding-left: 0.2em;position: relative;}#sk-container-id-39 div.sk-item {position: relative;z-index: 1;}#sk-container-id-39 div.sk-parallel {display: flex;align-items: stretch;justify-content: center;background-color: white;position: relative;}#sk-container-id-39 div.sk-item::before, #sk-container-id-39 div.sk-parallel-item::before {content: \"\";position: absolute;border-left: 1px solid gray;box-sizing: border-box;top: 0;bottom: 0;left: 50%;z-index: -1;}#sk-container-id-39 div.sk-parallel-item {display: flex;flex-direction: column;z-index: 1;position: relative;background-color: white;}#sk-container-id-39 div.sk-parallel-item:first-child::after {align-self: flex-end;width: 50%;}#sk-container-id-39 div.sk-parallel-item:last-child::after {align-self: flex-start;width: 50%;}#sk-container-id-39 div.sk-parallel-item:only-child::after {width: 0;}#sk-container-id-39 div.sk-dashed-wrapped {border: 1px dashed gray;margin: 0 0.4em 0.5em 0.4em;box-sizing: border-box;padding-bottom: 0.4em;background-color: white;}#sk-container-id-39 div.sk-label label {font-family: monospace;font-weight: bold;display: inline-block;line-height: 1.2em;}#sk-container-id-39 div.sk-label-container {text-align: center;}#sk-container-id-39 div.sk-container {/* jupyter's `normalize.less` sets `[hidden] { display: none; }` but bootstrap.min.css set `[hidden] { display: none !important; }` so we also need the `!important` here to be able to override the default hidden behavior on the sphinx rendered scikit-learn.org. See: https://github.com/scikit-learn/scikit-learn/issues/21755 */display: inline-block !important;position: relative;}#sk-container-id-39 div.sk-text-repr-fallback {display: none;}</style><div id=\"sk-container-id-39\" class=\"sk-top-container\"><div class=\"sk-text-repr-fallback\"><pre>Pipeline(steps=[(&#x27;polynomialfeatures&#x27;, PolynomialFeatures()),\n",
       "                (&#x27;ridge&#x27;, Ridge(alpha=0.05, max_iter=100000))])</pre><b>In a Jupyter environment, please rerun this cell to show the HTML representation or trust the notebook. <br />On GitHub, the HTML representation is unable to render, please try loading this page with nbviewer.org.</b></div><div class=\"sk-container\" hidden><div class=\"sk-item sk-dashed-wrapped\"><div class=\"sk-label-container\"><div class=\"sk-label sk-toggleable\"><input class=\"sk-toggleable__control sk-hidden--visually\" id=\"sk-estimator-id-103\" type=\"checkbox\" ><label for=\"sk-estimator-id-103\" class=\"sk-toggleable__label sk-toggleable__label-arrow\">Pipeline</label><div class=\"sk-toggleable__content\"><pre>Pipeline(steps=[(&#x27;polynomialfeatures&#x27;, PolynomialFeatures()),\n",
       "                (&#x27;ridge&#x27;, Ridge(alpha=0.05, max_iter=100000))])</pre></div></div></div><div class=\"sk-serial\"><div class=\"sk-item\"><div class=\"sk-estimator sk-toggleable\"><input class=\"sk-toggleable__control sk-hidden--visually\" id=\"sk-estimator-id-104\" type=\"checkbox\" ><label for=\"sk-estimator-id-104\" class=\"sk-toggleable__label sk-toggleable__label-arrow\">PolynomialFeatures</label><div class=\"sk-toggleable__content\"><pre>PolynomialFeatures()</pre></div></div></div><div class=\"sk-item\"><div class=\"sk-estimator sk-toggleable\"><input class=\"sk-toggleable__control sk-hidden--visually\" id=\"sk-estimator-id-105\" type=\"checkbox\" ><label for=\"sk-estimator-id-105\" class=\"sk-toggleable__label sk-toggleable__label-arrow\">Ridge</label><div class=\"sk-toggleable__content\"><pre>Ridge(alpha=0.05, max_iter=100000)</pre></div></div></div></div></div></div></div>"
      ],
      "text/plain": [
       "Pipeline(steps=[('polynomialfeatures', PolynomialFeatures()),\n",
       "                ('ridge', Ridge(alpha=0.05, max_iter=100000))])"
      ]
     },
     "execution_count": 166,
     "metadata": {},
     "output_type": "execute_result"
    }
   ],
   "source": [
    "ridge_model = make_pipeline(PolynomialFeatures(), Ridge(alpha = 0.05, max_iter = 100_000))\n",
    "ridge_model.fit(X_train_norm, y_train)"
   ]
  },
  {
   "cell_type": "code",
   "execution_count": 167,
   "id": "7fefb606-44a9-4118-a719-c71111dabe15",
   "metadata": {},
   "outputs": [
    {
     "data": {
      "text/plain": [
       "0.9990002090969166"
      ]
     },
     "execution_count": 167,
     "metadata": {},
     "output_type": "execute_result"
    }
   ],
   "source": [
    "ridge_model.score(X_test_norm, y_test)"
   ]
  },
  {
   "cell_type": "code",
   "execution_count": 199,
   "id": "d0233f9b-2272-41db-bf3b-92ff64bfcd1e",
   "metadata": {},
   "outputs": [
    {
     "data": {
      "text/plain": [
       "0.9169642154185914"
      ]
     },
     "execution_count": 199,
     "metadata": {},
     "output_type": "execute_result"
    }
   ],
   "source": [
    "y_pred_ridge = ridge_model.predict(X_test_norm)\n",
    "rmse_ridge = np.sqrt(mean_squared_error(y_test, y_pred_ridge))\n",
    "rmse_ridge"
   ]
  },
  {
   "cell_type": "markdown",
   "id": "99e11ece-3068-4001-a11b-f0b77aec7b3b",
   "metadata": {},
   "source": [
    "<h3>ElasticNet</h3>"
   ]
  },
  {
   "cell_type": "code",
   "execution_count": 184,
   "id": "781c91be-e421-44b7-b0b0-534e83ea1a0f",
   "metadata": {},
   "outputs": [
    {
     "data": {
      "text/html": [
       "<style>#sk-container-id-45 {color: black;background-color: white;}#sk-container-id-45 pre{padding: 0;}#sk-container-id-45 div.sk-toggleable {background-color: white;}#sk-container-id-45 label.sk-toggleable__label {cursor: pointer;display: block;width: 100%;margin-bottom: 0;padding: 0.3em;box-sizing: border-box;text-align: center;}#sk-container-id-45 label.sk-toggleable__label-arrow:before {content: \"▸\";float: left;margin-right: 0.25em;color: #696969;}#sk-container-id-45 label.sk-toggleable__label-arrow:hover:before {color: black;}#sk-container-id-45 div.sk-estimator:hover label.sk-toggleable__label-arrow:before {color: black;}#sk-container-id-45 div.sk-toggleable__content {max-height: 0;max-width: 0;overflow: hidden;text-align: left;background-color: #f0f8ff;}#sk-container-id-45 div.sk-toggleable__content pre {margin: 0.2em;color: black;border-radius: 0.25em;background-color: #f0f8ff;}#sk-container-id-45 input.sk-toggleable__control:checked~div.sk-toggleable__content {max-height: 200px;max-width: 100%;overflow: auto;}#sk-container-id-45 input.sk-toggleable__control:checked~label.sk-toggleable__label-arrow:before {content: \"▾\";}#sk-container-id-45 div.sk-estimator input.sk-toggleable__control:checked~label.sk-toggleable__label {background-color: #d4ebff;}#sk-container-id-45 div.sk-label input.sk-toggleable__control:checked~label.sk-toggleable__label {background-color: #d4ebff;}#sk-container-id-45 input.sk-hidden--visually {border: 0;clip: rect(1px 1px 1px 1px);clip: rect(1px, 1px, 1px, 1px);height: 1px;margin: -1px;overflow: hidden;padding: 0;position: absolute;width: 1px;}#sk-container-id-45 div.sk-estimator {font-family: monospace;background-color: #f0f8ff;border: 1px dotted black;border-radius: 0.25em;box-sizing: border-box;margin-bottom: 0.5em;}#sk-container-id-45 div.sk-estimator:hover {background-color: #d4ebff;}#sk-container-id-45 div.sk-parallel-item::after {content: \"\";width: 100%;border-bottom: 1px solid gray;flex-grow: 1;}#sk-container-id-45 div.sk-label:hover label.sk-toggleable__label {background-color: #d4ebff;}#sk-container-id-45 div.sk-serial::before {content: \"\";position: absolute;border-left: 1px solid gray;box-sizing: border-box;top: 0;bottom: 0;left: 50%;z-index: 0;}#sk-container-id-45 div.sk-serial {display: flex;flex-direction: column;align-items: center;background-color: white;padding-right: 0.2em;padding-left: 0.2em;position: relative;}#sk-container-id-45 div.sk-item {position: relative;z-index: 1;}#sk-container-id-45 div.sk-parallel {display: flex;align-items: stretch;justify-content: center;background-color: white;position: relative;}#sk-container-id-45 div.sk-item::before, #sk-container-id-45 div.sk-parallel-item::before {content: \"\";position: absolute;border-left: 1px solid gray;box-sizing: border-box;top: 0;bottom: 0;left: 50%;z-index: -1;}#sk-container-id-45 div.sk-parallel-item {display: flex;flex-direction: column;z-index: 1;position: relative;background-color: white;}#sk-container-id-45 div.sk-parallel-item:first-child::after {align-self: flex-end;width: 50%;}#sk-container-id-45 div.sk-parallel-item:last-child::after {align-self: flex-start;width: 50%;}#sk-container-id-45 div.sk-parallel-item:only-child::after {width: 0;}#sk-container-id-45 div.sk-dashed-wrapped {border: 1px dashed gray;margin: 0 0.4em 0.5em 0.4em;box-sizing: border-box;padding-bottom: 0.4em;background-color: white;}#sk-container-id-45 div.sk-label label {font-family: monospace;font-weight: bold;display: inline-block;line-height: 1.2em;}#sk-container-id-45 div.sk-label-container {text-align: center;}#sk-container-id-45 div.sk-container {/* jupyter's `normalize.less` sets `[hidden] { display: none; }` but bootstrap.min.css set `[hidden] { display: none !important; }` so we also need the `!important` here to be able to override the default hidden behavior on the sphinx rendered scikit-learn.org. See: https://github.com/scikit-learn/scikit-learn/issues/21755 */display: inline-block !important;position: relative;}#sk-container-id-45 div.sk-text-repr-fallback {display: none;}</style><div id=\"sk-container-id-45\" class=\"sk-top-container\"><div class=\"sk-text-repr-fallback\"><pre>Pipeline(steps=[(&#x27;polynomialfeatures&#x27;, PolynomialFeatures()),\n",
       "                (&#x27;elasticnet&#x27;, ElasticNet(alpha=0.001, max_iter=10000))])</pre><b>In a Jupyter environment, please rerun this cell to show the HTML representation or trust the notebook. <br />On GitHub, the HTML representation is unable to render, please try loading this page with nbviewer.org.</b></div><div class=\"sk-container\" hidden><div class=\"sk-item sk-dashed-wrapped\"><div class=\"sk-label-container\"><div class=\"sk-label sk-toggleable\"><input class=\"sk-toggleable__control sk-hidden--visually\" id=\"sk-estimator-id-121\" type=\"checkbox\" ><label for=\"sk-estimator-id-121\" class=\"sk-toggleable__label sk-toggleable__label-arrow\">Pipeline</label><div class=\"sk-toggleable__content\"><pre>Pipeline(steps=[(&#x27;polynomialfeatures&#x27;, PolynomialFeatures()),\n",
       "                (&#x27;elasticnet&#x27;, ElasticNet(alpha=0.001, max_iter=10000))])</pre></div></div></div><div class=\"sk-serial\"><div class=\"sk-item\"><div class=\"sk-estimator sk-toggleable\"><input class=\"sk-toggleable__control sk-hidden--visually\" id=\"sk-estimator-id-122\" type=\"checkbox\" ><label for=\"sk-estimator-id-122\" class=\"sk-toggleable__label sk-toggleable__label-arrow\">PolynomialFeatures</label><div class=\"sk-toggleable__content\"><pre>PolynomialFeatures()</pre></div></div></div><div class=\"sk-item\"><div class=\"sk-estimator sk-toggleable\"><input class=\"sk-toggleable__control sk-hidden--visually\" id=\"sk-estimator-id-123\" type=\"checkbox\" ><label for=\"sk-estimator-id-123\" class=\"sk-toggleable__label sk-toggleable__label-arrow\">ElasticNet</label><div class=\"sk-toggleable__content\"><pre>ElasticNet(alpha=0.001, max_iter=10000)</pre></div></div></div></div></div></div></div>"
      ],
      "text/plain": [
       "Pipeline(steps=[('polynomialfeatures', PolynomialFeatures()),\n",
       "                ('elasticnet', ElasticNet(alpha=0.001, max_iter=10000))])"
      ]
     },
     "execution_count": 184,
     "metadata": {},
     "output_type": "execute_result"
    }
   ],
   "source": [
    "elastic_model = make_pipeline(PolynomialFeatures(), ElasticNet(alpha = 0.001, l1_ratio = 0.5, max_iter = 10_000))\n",
    "elastic_model.fit(X_train_norm, y_train)"
   ]
  },
  {
   "cell_type": "code",
   "execution_count": 185,
   "id": "0f63a8b6-8b75-489d-8ee2-410de76e424c",
   "metadata": {},
   "outputs": [
    {
     "data": {
      "text/plain": [
       "0.9989742048011269"
      ]
     },
     "execution_count": 185,
     "metadata": {},
     "output_type": "execute_result"
    }
   ],
   "source": [
    "elastic_model.score(X_test_norm, y_test)"
   ]
  },
  {
   "cell_type": "code",
   "execution_count": 198,
   "id": "76624cd9-34d8-4689-8201-5c6b09e0c248",
   "metadata": {},
   "outputs": [
    {
     "data": {
      "text/plain": [
       "0.9288126640524822"
      ]
     },
     "execution_count": 198,
     "metadata": {},
     "output_type": "execute_result"
    }
   ],
   "source": [
    "y_pred_elastic = elastic_model.predict(X_test_norm)\n",
    "rmse_elastic = np.sqrt(mean_squared_error(y_test, y_pred_elastic))\n",
    "rmse_elastic"
   ]
  },
  {
   "cell_type": "markdown",
   "id": "44e5f3d8-4e3c-4d62-ad77-54521f6d7625",
   "metadata": {},
   "source": [
    "<h3>Bayesian Ridge</h3>"
   ]
  },
  {
   "cell_type": "code",
   "execution_count": 190,
   "id": "15ffdbe5-38d8-4dd6-80e2-b7799a289746",
   "metadata": {},
   "outputs": [
    {
     "data": {
      "text/html": [
       "<style>#sk-container-id-47 {color: black;background-color: white;}#sk-container-id-47 pre{padding: 0;}#sk-container-id-47 div.sk-toggleable {background-color: white;}#sk-container-id-47 label.sk-toggleable__label {cursor: pointer;display: block;width: 100%;margin-bottom: 0;padding: 0.3em;box-sizing: border-box;text-align: center;}#sk-container-id-47 label.sk-toggleable__label-arrow:before {content: \"▸\";float: left;margin-right: 0.25em;color: #696969;}#sk-container-id-47 label.sk-toggleable__label-arrow:hover:before {color: black;}#sk-container-id-47 div.sk-estimator:hover label.sk-toggleable__label-arrow:before {color: black;}#sk-container-id-47 div.sk-toggleable__content {max-height: 0;max-width: 0;overflow: hidden;text-align: left;background-color: #f0f8ff;}#sk-container-id-47 div.sk-toggleable__content pre {margin: 0.2em;color: black;border-radius: 0.25em;background-color: #f0f8ff;}#sk-container-id-47 input.sk-toggleable__control:checked~div.sk-toggleable__content {max-height: 200px;max-width: 100%;overflow: auto;}#sk-container-id-47 input.sk-toggleable__control:checked~label.sk-toggleable__label-arrow:before {content: \"▾\";}#sk-container-id-47 div.sk-estimator input.sk-toggleable__control:checked~label.sk-toggleable__label {background-color: #d4ebff;}#sk-container-id-47 div.sk-label input.sk-toggleable__control:checked~label.sk-toggleable__label {background-color: #d4ebff;}#sk-container-id-47 input.sk-hidden--visually {border: 0;clip: rect(1px 1px 1px 1px);clip: rect(1px, 1px, 1px, 1px);height: 1px;margin: -1px;overflow: hidden;padding: 0;position: absolute;width: 1px;}#sk-container-id-47 div.sk-estimator {font-family: monospace;background-color: #f0f8ff;border: 1px dotted black;border-radius: 0.25em;box-sizing: border-box;margin-bottom: 0.5em;}#sk-container-id-47 div.sk-estimator:hover {background-color: #d4ebff;}#sk-container-id-47 div.sk-parallel-item::after {content: \"\";width: 100%;border-bottom: 1px solid gray;flex-grow: 1;}#sk-container-id-47 div.sk-label:hover label.sk-toggleable__label {background-color: #d4ebff;}#sk-container-id-47 div.sk-serial::before {content: \"\";position: absolute;border-left: 1px solid gray;box-sizing: border-box;top: 0;bottom: 0;left: 50%;z-index: 0;}#sk-container-id-47 div.sk-serial {display: flex;flex-direction: column;align-items: center;background-color: white;padding-right: 0.2em;padding-left: 0.2em;position: relative;}#sk-container-id-47 div.sk-item {position: relative;z-index: 1;}#sk-container-id-47 div.sk-parallel {display: flex;align-items: stretch;justify-content: center;background-color: white;position: relative;}#sk-container-id-47 div.sk-item::before, #sk-container-id-47 div.sk-parallel-item::before {content: \"\";position: absolute;border-left: 1px solid gray;box-sizing: border-box;top: 0;bottom: 0;left: 50%;z-index: -1;}#sk-container-id-47 div.sk-parallel-item {display: flex;flex-direction: column;z-index: 1;position: relative;background-color: white;}#sk-container-id-47 div.sk-parallel-item:first-child::after {align-self: flex-end;width: 50%;}#sk-container-id-47 div.sk-parallel-item:last-child::after {align-self: flex-start;width: 50%;}#sk-container-id-47 div.sk-parallel-item:only-child::after {width: 0;}#sk-container-id-47 div.sk-dashed-wrapped {border: 1px dashed gray;margin: 0 0.4em 0.5em 0.4em;box-sizing: border-box;padding-bottom: 0.4em;background-color: white;}#sk-container-id-47 div.sk-label label {font-family: monospace;font-weight: bold;display: inline-block;line-height: 1.2em;}#sk-container-id-47 div.sk-label-container {text-align: center;}#sk-container-id-47 div.sk-container {/* jupyter's `normalize.less` sets `[hidden] { display: none; }` but bootstrap.min.css set `[hidden] { display: none !important; }` so we also need the `!important` here to be able to override the default hidden behavior on the sphinx rendered scikit-learn.org. See: https://github.com/scikit-learn/scikit-learn/issues/21755 */display: inline-block !important;position: relative;}#sk-container-id-47 div.sk-text-repr-fallback {display: none;}</style><div id=\"sk-container-id-47\" class=\"sk-top-container\"><div class=\"sk-text-repr-fallback\"><pre>Pipeline(steps=[(&#x27;polynomialfeatures&#x27;, PolynomialFeatures()),\n",
       "                (&#x27;bayesianridge&#x27;,\n",
       "                 BayesianRidge(alpha_init=0.001, n_iter=10000))])</pre><b>In a Jupyter environment, please rerun this cell to show the HTML representation or trust the notebook. <br />On GitHub, the HTML representation is unable to render, please try loading this page with nbviewer.org.</b></div><div class=\"sk-container\" hidden><div class=\"sk-item sk-dashed-wrapped\"><div class=\"sk-label-container\"><div class=\"sk-label sk-toggleable\"><input class=\"sk-toggleable__control sk-hidden--visually\" id=\"sk-estimator-id-127\" type=\"checkbox\" ><label for=\"sk-estimator-id-127\" class=\"sk-toggleable__label sk-toggleable__label-arrow\">Pipeline</label><div class=\"sk-toggleable__content\"><pre>Pipeline(steps=[(&#x27;polynomialfeatures&#x27;, PolynomialFeatures()),\n",
       "                (&#x27;bayesianridge&#x27;,\n",
       "                 BayesianRidge(alpha_init=0.001, n_iter=10000))])</pre></div></div></div><div class=\"sk-serial\"><div class=\"sk-item\"><div class=\"sk-estimator sk-toggleable\"><input class=\"sk-toggleable__control sk-hidden--visually\" id=\"sk-estimator-id-128\" type=\"checkbox\" ><label for=\"sk-estimator-id-128\" class=\"sk-toggleable__label sk-toggleable__label-arrow\">PolynomialFeatures</label><div class=\"sk-toggleable__content\"><pre>PolynomialFeatures()</pre></div></div></div><div class=\"sk-item\"><div class=\"sk-estimator sk-toggleable\"><input class=\"sk-toggleable__control sk-hidden--visually\" id=\"sk-estimator-id-129\" type=\"checkbox\" ><label for=\"sk-estimator-id-129\" class=\"sk-toggleable__label sk-toggleable__label-arrow\">BayesianRidge</label><div class=\"sk-toggleable__content\"><pre>BayesianRidge(alpha_init=0.001, n_iter=10000)</pre></div></div></div></div></div></div></div>"
      ],
      "text/plain": [
       "Pipeline(steps=[('polynomialfeatures', PolynomialFeatures()),\n",
       "                ('bayesianridge',\n",
       "                 BayesianRidge(alpha_init=0.001, n_iter=10000))])"
      ]
     },
     "execution_count": 190,
     "metadata": {},
     "output_type": "execute_result"
    }
   ],
   "source": [
    "bayesian_model = make_pipeline(PolynomialFeatures(), BayesianRidge(n_iter = 10_000, alpha_init = 0.001))\n",
    "bayesian_model.fit(X_train_norm, y_train)"
   ]
  },
  {
   "cell_type": "code",
   "execution_count": 195,
   "id": "a2feef52-12b5-4759-af9d-37158bbc10b7",
   "metadata": {},
   "outputs": [
    {
     "data": {
      "text/plain": [
       "0.9989644813524694"
      ]
     },
     "execution_count": 195,
     "metadata": {},
     "output_type": "execute_result"
    }
   ],
   "source": [
    "bayesian_model.score(X_test_norm, y_test)"
   ]
  },
  {
   "cell_type": "code",
   "execution_count": 197,
   "id": "5de8489e-91eb-4b89-9a92-3d1d14e7a6df",
   "metadata": {},
   "outputs": [
    {
     "data": {
      "text/plain": [
       "0.933204360077282"
      ]
     },
     "execution_count": 197,
     "metadata": {},
     "output_type": "execute_result"
    }
   ],
   "source": [
    "y_pred_bayesian = bayesian_model.predict(X_test_norm)\n",
    "rmse_bayesian = np.sqrt(mean_squared_error(y_test, y_pred_bayesian))\n",
    "rmse_bayesian"
   ]
  },
  {
   "cell_type": "code",
   "execution_count": 224,
   "id": "2565ad1a-d372-459f-b658-f0ec009c3f53",
   "metadata": {},
   "outputs": [
    {
     "data": {
      "image/png": "[encoded data removed]",
      "text/plain": [
       "<Figure size 864x504 with 1 Axes>"
      ]
     },
     "metadata": {},
     "output_type": "display_data"
    }
   ],
   "source": [
    "# For a very big RMSE error I leave here SGDRegressor and simple Linear Regression\n",
    "sns.set_style('darkgrid')\n",
    "plt.figure(figsize = (12, 7))\n",
    "\n",
    "plt.bar(x = ['Linear', 'Lasso', 'Ridge', 'ElasticNet', 'Bayesian'], height = [rmse_linear_poly, rmse_lasso, rmse_ridge, rmse_elastic, rmse_bayesian])\n",
    "\n",
    "plt.xlabel('Regression model', fontsize = 12)\n",
    "plt.ylabel('Root-mean-square deviation', fontsize = 12)\n",
    "plt.title('Comparision of regression models with Polynomial Features', fontsize = 14, weight = 'bold')\n",
    "\n",
    "plt.show()"
   ]
  },
  {
   "cell_type": "markdown",
   "id": "5501d461-b6f1-4539-b79d-baf70f2b8140",
   "metadata": {},
   "source": [
    "<h2>Predictions</h2>"
   ]
  },
  {
   "cell_type": "code",
   "execution_count": 225,
   "id": "0745d2e5-b9ed-43f5-9e2b-c97508c26912",
   "metadata": {},
   "outputs": [
    {
     "data": {
      "text/html": [
       "<div>\n",
       "<style scoped>\n",
       "    .dataframe tbody tr th:only-of-type {\n",
       "        vertical-align: middle;\n",
       "    }\n",
       "\n",
       "    .dataframe tbody tr th {\n",
       "        vertical-align: top;\n",
       "    }\n",
       "\n",
       "    .dataframe thead th {\n",
       "        text-align: right;\n",
       "    }\n",
       "</style>\n",
       "<table border=\"1\" class=\"dataframe\">\n",
       "  <thead>\n",
       "    <tr style=\"text-align: right;\">\n",
       "      <th></th>\n",
       "      <th>0</th>\n",
       "      <th>1</th>\n",
       "      <th>2</th>\n",
       "      <th>3</th>\n",
       "      <th>4</th>\n",
       "      <th>5</th>\n",
       "      <th>6</th>\n",
       "      <th>7</th>\n",
       "      <th>8</th>\n",
       "      <th>9</th>\n",
       "      <th>10</th>\n",
       "      <th>11</th>\n",
       "      <th>12</th>\n",
       "      <th>13</th>\n",
       "      <th>14</th>\n",
       "      <th>15</th>\n",
       "      <th>16</th>\n",
       "      <th>17</th>\n",
       "      <th>18</th>\n",
       "      <th>19</th>\n",
       "      <th>20</th>\n",
       "      <th>21</th>\n",
       "      <th>22</th>\n",
       "      <th>23</th>\n",
       "      <th>24</th>\n",
       "      <th>25</th>\n",
       "      <th>26</th>\n",
       "      <th>27</th>\n",
       "      <th>28</th>\n",
       "      <th>29</th>\n",
       "      <th>30</th>\n",
       "      <th>31</th>\n",
       "      <th>32</th>\n",
       "      <th>33</th>\n",
       "      <th>34</th>\n",
       "      <th>35</th>\n",
       "      <th>36</th>\n",
       "      <th>37</th>\n",
       "      <th>38</th>\n",
       "      <th>39</th>\n",
       "      <th>40</th>\n",
       "      <th>41</th>\n",
       "      <th>42</th>\n",
       "      <th>43</th>\n",
       "      <th>44</th>\n",
       "      <th>45</th>\n",
       "      <th>46</th>\n",
       "      <th>47</th>\n",
       "      <th>48</th>\n",
       "      <th>49</th>\n",
       "      <th>50</th>\n",
       "      <th>51</th>\n",
       "      <th>52</th>\n",
       "    </tr>\n",
       "  </thead>\n",
       "  <tbody>\n",
       "    <tr>\n",
       "      <th>0</th>\n",
       "      <td>259</td>\n",
       "      <td>388</td>\n",
       "      <td>402</td>\n",
       "      <td>340</td>\n",
       "      <td>156</td>\n",
       "      <td>382</td>\n",
       "      <td>3.316625</td>\n",
       "      <td>0.218760</td>\n",
       "      <td>1</td>\n",
       "      <td>164</td>\n",
       "      <td>183</td>\n",
       "      <td>411</td>\n",
       "      <td>239</td>\n",
       "      <td>1.636870</td>\n",
       "      <td>4.316116</td>\n",
       "      <td>3.087304</td>\n",
       "      <td>12.844492</td>\n",
       "      <td>0.054046</td>\n",
       "      <td>0.643383</td>\n",
       "      <td>3.104759</td>\n",
       "      <td>5.579529</td>\n",
       "      <td>7.633182</td>\n",
       "      <td>9.056701</td>\n",
       "      <td>8.621463</td>\n",
       "      <td>4.039640</td>\n",
       "      <td>1.191639</td>\n",
       "      <td>2.775038</td>\n",
       "      <td>9.728365</td>\n",
       "      <td>6.701686</td>\n",
       "      <td>11.456474</td>\n",
       "      <td>3.380898</td>\n",
       "      <td>4.866598</td>\n",
       "      <td>6.705850</td>\n",
       "      <td>2.521471</td>\n",
       "      <td>3.124903</td>\n",
       "      <td>12.787034</td>\n",
       "      <td>7.653819</td>\n",
       "      <td>2.067580</td>\n",
       "      <td>14.527098</td>\n",
       "      <td>13.773822</td>\n",
       "      <td>6.570842</td>\n",
       "      <td>7.280782</td>\n",
       "      <td>9.876851</td>\n",
       "      <td>7.163474</td>\n",
       "      <td>10.227235</td>\n",
       "      <td>0.889111</td>\n",
       "      <td>9.190222</td>\n",
       "      <td>4.670908</td>\n",
       "      <td>0.931525</td>\n",
       "      <td>7.634177</td>\n",
       "      <td>0.158196</td>\n",
       "      <td>13.432551</td>\n",
       "      <td>2.511191</td>\n",
       "    </tr>\n",
       "    <tr>\n",
       "      <th>1</th>\n",
       "      <td>441</td>\n",
       "      <td>192</td>\n",
       "      <td>381</td>\n",
       "      <td>421</td>\n",
       "      <td>452</td>\n",
       "      <td>123</td>\n",
       "      <td>-8.888194</td>\n",
       "      <td>0.700228</td>\n",
       "      <td>0</td>\n",
       "      <td>349</td>\n",
       "      <td>229</td>\n",
       "      <td>420</td>\n",
       "      <td>476</td>\n",
       "      <td>6.256282</td>\n",
       "      <td>0.410825</td>\n",
       "      <td>0.693713</td>\n",
       "      <td>5.895766</td>\n",
       "      <td>7.309578</td>\n",
       "      <td>2.315738</td>\n",
       "      <td>6.204979</td>\n",
       "      <td>4.264013</td>\n",
       "      <td>11.956969</td>\n",
       "      <td>1.801893</td>\n",
       "      <td>13.581027</td>\n",
       "      <td>7.460250</td>\n",
       "      <td>7.883021</td>\n",
       "      <td>10.537323</td>\n",
       "      <td>12.286389</td>\n",
       "      <td>4.499934</td>\n",
       "      <td>3.302528</td>\n",
       "      <td>1.490149</td>\n",
       "      <td>10.010222</td>\n",
       "      <td>2.469233</td>\n",
       "      <td>9.206524</td>\n",
       "      <td>3.097949</td>\n",
       "      <td>14.556454</td>\n",
       "      <td>10.811960</td>\n",
       "      <td>14.584917</td>\n",
       "      <td>2.021892</td>\n",
       "      <td>7.956624</td>\n",
       "      <td>3.006465</td>\n",
       "      <td>10.685368</td>\n",
       "      <td>5.047971</td>\n",
       "      <td>10.619064</td>\n",
       "      <td>9.339161</td>\n",
       "      <td>4.221861</td>\n",
       "      <td>0.595563</td>\n",
       "      <td>13.865748</td>\n",
       "      <td>0.328453</td>\n",
       "      <td>11.507599</td>\n",
       "      <td>9.107966</td>\n",
       "      <td>1.302407</td>\n",
       "      <td>11.105604</td>\n",
       "    </tr>\n",
       "    <tr>\n",
       "      <th>2</th>\n",
       "      <td>83</td>\n",
       "      <td>129</td>\n",
       "      <td>107</td>\n",
       "      <td>156</td>\n",
       "      <td>247</td>\n",
       "      <td>191</td>\n",
       "      <td>2.645751</td>\n",
       "      <td>0.494556</td>\n",
       "      <td>1</td>\n",
       "      <td>297</td>\n",
       "      <td>448</td>\n",
       "      <td>420</td>\n",
       "      <td>428</td>\n",
       "      <td>5.724503</td>\n",
       "      <td>12.465191</td>\n",
       "      <td>1.977254</td>\n",
       "      <td>7.652835</td>\n",
       "      <td>2.649014</td>\n",
       "      <td>14.531226</td>\n",
       "      <td>1.293337</td>\n",
       "      <td>9.192163</td>\n",
       "      <td>7.218093</td>\n",
       "      <td>9.580598</td>\n",
       "      <td>10.240284</td>\n",
       "      <td>12.522093</td>\n",
       "      <td>11.639480</td>\n",
       "      <td>11.349518</td>\n",
       "      <td>10.959723</td>\n",
       "      <td>12.820784</td>\n",
       "      <td>9.176369</td>\n",
       "      <td>10.157479</td>\n",
       "      <td>4.107533</td>\n",
       "      <td>7.454075</td>\n",
       "      <td>12.178675</td>\n",
       "      <td>9.401233</td>\n",
       "      <td>10.292276</td>\n",
       "      <td>3.530603</td>\n",
       "      <td>12.680169</td>\n",
       "      <td>10.921196</td>\n",
       "      <td>8.008255</td>\n",
       "      <td>14.940933</td>\n",
       "      <td>4.579603</td>\n",
       "      <td>14.150860</td>\n",
       "      <td>1.819890</td>\n",
       "      <td>10.670237</td>\n",
       "      <td>10.350867</td>\n",
       "      <td>5.134417</td>\n",
       "      <td>5.898995</td>\n",
       "      <td>8.374986</td>\n",
       "      <td>4.638049</td>\n",
       "      <td>3.160023</td>\n",
       "      <td>2.243799</td>\n",
       "      <td>5.073030</td>\n",
       "    </tr>\n",
       "    <tr>\n",
       "      <th>3</th>\n",
       "      <td>183</td>\n",
       "      <td>438</td>\n",
       "      <td>191</td>\n",
       "      <td>116</td>\n",
       "      <td>491</td>\n",
       "      <td>403</td>\n",
       "      <td>-6.164414</td>\n",
       "      <td>0.511117</td>\n",
       "      <td>0</td>\n",
       "      <td>272</td>\n",
       "      <td>315</td>\n",
       "      <td>23</td>\n",
       "      <td>421</td>\n",
       "      <td>10.868374</td>\n",
       "      <td>8.335662</td>\n",
       "      <td>3.561422</td>\n",
       "      <td>9.939135</td>\n",
       "      <td>4.885376</td>\n",
       "      <td>7.706857</td>\n",
       "      <td>4.214658</td>\n",
       "      <td>10.346181</td>\n",
       "      <td>2.590524</td>\n",
       "      <td>1.511884</td>\n",
       "      <td>2.357567</td>\n",
       "      <td>5.231946</td>\n",
       "      <td>4.697991</td>\n",
       "      <td>11.870758</td>\n",
       "      <td>0.455004</td>\n",
       "      <td>0.645782</td>\n",
       "      <td>7.849633</td>\n",
       "      <td>5.334536</td>\n",
       "      <td>5.262470</td>\n",
       "      <td>9.251172</td>\n",
       "      <td>9.335831</td>\n",
       "      <td>9.708345</td>\n",
       "      <td>6.091409</td>\n",
       "      <td>6.789830</td>\n",
       "      <td>1.552119</td>\n",
       "      <td>12.569473</td>\n",
       "      <td>7.002166</td>\n",
       "      <td>4.999168</td>\n",
       "      <td>14.278131</td>\n",
       "      <td>0.650444</td>\n",
       "      <td>4.168135</td>\n",
       "      <td>12.782579</td>\n",
       "      <td>0.513072</td>\n",
       "      <td>0.321295</td>\n",
       "      <td>11.334062</td>\n",
       "      <td>11.735511</td>\n",
       "      <td>1.911520</td>\n",
       "      <td>8.365676</td>\n",
       "      <td>4.877288</td>\n",
       "      <td>11.601819</td>\n",
       "    </tr>\n",
       "    <tr>\n",
       "      <th>4</th>\n",
       "      <td>449</td>\n",
       "      <td>156</td>\n",
       "      <td>310</td>\n",
       "      <td>188</td>\n",
       "      <td>279</td>\n",
       "      <td>465</td>\n",
       "      <td>8.000000</td>\n",
       "      <td>0.756416</td>\n",
       "      <td>1</td>\n",
       "      <td>90</td>\n",
       "      <td>74</td>\n",
       "      <td>481</td>\n",
       "      <td>55</td>\n",
       "      <td>11.871029</td>\n",
       "      <td>10.237341</td>\n",
       "      <td>14.890562</td>\n",
       "      <td>4.589386</td>\n",
       "      <td>12.968020</td>\n",
       "      <td>4.907581</td>\n",
       "      <td>14.461897</td>\n",
       "      <td>13.128528</td>\n",
       "      <td>4.062875</td>\n",
       "      <td>2.253413</td>\n",
       "      <td>12.471074</td>\n",
       "      <td>7.078105</td>\n",
       "      <td>0.843648</td>\n",
       "      <td>14.961904</td>\n",
       "      <td>6.157512</td>\n",
       "      <td>11.370193</td>\n",
       "      <td>12.969449</td>\n",
       "      <td>7.130421</td>\n",
       "      <td>8.974373</td>\n",
       "      <td>6.173560</td>\n",
       "      <td>12.682708</td>\n",
       "      <td>7.864171</td>\n",
       "      <td>2.075725</td>\n",
       "      <td>14.339978</td>\n",
       "      <td>3.365456</td>\n",
       "      <td>6.278199</td>\n",
       "      <td>9.302832</td>\n",
       "      <td>9.715296</td>\n",
       "      <td>14.142186</td>\n",
       "      <td>9.875013</td>\n",
       "      <td>7.908122</td>\n",
       "      <td>1.140498</td>\n",
       "      <td>14.165074</td>\n",
       "      <td>7.688796</td>\n",
       "      <td>5.079241</td>\n",
       "      <td>8.152186</td>\n",
       "      <td>1.680403</td>\n",
       "      <td>13.215111</td>\n",
       "      <td>5.823109</td>\n",
       "      <td>1.038015</td>\n",
       "    </tr>\n",
       "  </tbody>\n",
       "</table>\n",
       "</div>"
      ],
      "text/plain": [
       "     0    1    2    3    4    5         6         7  8    9   10   11   12  \\\n",
       "0  259  388  402  340  156  382  3.316625  0.218760  1  164  183  411  239   \n",
       "1  441  192  381  421  452  123 -8.888194  0.700228  0  349  229  420  476   \n",
       "2   83  129  107  156  247  191  2.645751  0.494556  1  297  448  420  428   \n",
       "3  183  438  191  116  491  403 -6.164414  0.511117  0  272  315   23  421   \n",
       "4  449  156  310  188  279  465  8.000000  0.756416  1   90   74  481   55   \n",
       "\n",
       "          13         14         15         16         17         18  \\\n",
       "0   1.636870   4.316116   3.087304  12.844492   0.054046   0.643383   \n",
       "1   6.256282   0.410825   0.693713   5.895766   7.309578   2.315738   \n",
       "2   5.724503  12.465191   1.977254   7.652835   2.649014  14.531226   \n",
       "3  10.868374   8.335662   3.561422   9.939135   4.885376   7.706857   \n",
       "4  11.871029  10.237341  14.890562   4.589386  12.968020   4.907581   \n",
       "\n",
       "          19         20         21        22         23         24         25  \\\n",
       "0   3.104759   5.579529   7.633182  9.056701   8.621463   4.039640   1.191639   \n",
       "1   6.204979   4.264013  11.956969  1.801893  13.581027   7.460250   7.883021   \n",
       "2   1.293337   9.192163   7.218093  9.580598  10.240284  12.522093  11.639480   \n",
       "3   4.214658  10.346181   2.590524  1.511884   2.357567   5.231946   4.697991   \n",
       "4  14.461897  13.128528   4.062875  2.253413  12.471074   7.078105   0.843648   \n",
       "\n",
       "          26         27         28         29         30         31        32  \\\n",
       "0   2.775038   9.728365   6.701686  11.456474   3.380898   4.866598  6.705850   \n",
       "1  10.537323  12.286389   4.499934   3.302528   1.490149  10.010222  2.469233   \n",
       "2  11.349518  10.959723  12.820784   9.176369  10.157479   4.107533  7.454075   \n",
       "3  11.870758   0.455004   0.645782   7.849633   5.334536   5.262470  9.251172   \n",
       "4  14.961904   6.157512  11.370193  12.969449   7.130421   8.974373  6.173560   \n",
       "\n",
       "          33        34         35         36         37         38         39  \\\n",
       "0   2.521471  3.124903  12.787034   7.653819   2.067580  14.527098  13.773822   \n",
       "1   9.206524  3.097949  14.556454  10.811960  14.584917   2.021892   7.956624   \n",
       "2  12.178675  9.401233  10.292276   3.530603  12.680169  10.921196   8.008255   \n",
       "3   9.335831  9.708345   6.091409   6.789830   1.552119  12.569473   7.002166   \n",
       "4  12.682708  7.864171   2.075725  14.339978   3.365456   6.278199   9.302832   \n",
       "\n",
       "          40         41         42         43         44         45        46  \\\n",
       "0   6.570842   7.280782   9.876851   7.163474  10.227235   0.889111  9.190222   \n",
       "1   3.006465  10.685368   5.047971  10.619064   9.339161   4.221861  0.595563   \n",
       "2  14.940933   4.579603  14.150860   1.819890  10.670237  10.350867  5.134417   \n",
       "3   4.999168  14.278131   0.650444   4.168135  12.782579   0.513072  0.321295   \n",
       "4   9.715296  14.142186   9.875013   7.908122   1.140498  14.165074  7.688796   \n",
       "\n",
       "          47         48         49         50         51         52  \n",
       "0   4.670908   0.931525   7.634177   0.158196  13.432551   2.511191  \n",
       "1  13.865748   0.328453  11.507599   9.107966   1.302407  11.105604  \n",
       "2   5.898995   8.374986   4.638049   3.160023   2.243799   5.073030  \n",
       "3  11.334062  11.735511   1.911520   8.365676   4.877288  11.601819  \n",
       "4   5.079241   8.152186   1.680403  13.215111   5.823109   1.038015  "
      ]
     },
     "execution_count": 225,
     "metadata": {},
     "output_type": "execute_result"
    }
   ],
   "source": [
    "hidden_data = pd.read_csv('internship_hidden_test.csv')\n",
    "hidden_data.head()"
   ]
  },
  {
   "cell_type": "code",
   "execution_count": 226,
   "id": "0b74d73a-01e5-4289-bf1c-60e5b0975114",
   "metadata": {},
   "outputs": [
    {
     "data": {
      "text/plain": [
       "array([[2.59000000e+02, 3.88000000e+02, 4.02000000e+02, ...,\n",
       "        1.58195658e-01, 1.34325512e+01, 2.51119147e+00],\n",
       "       [4.41000000e+02, 1.92000000e+02, 3.81000000e+02, ...,\n",
       "        9.10796559e+00, 1.30240742e+00, 1.11056039e+01],\n",
       "       [8.30000000e+01, 1.29000000e+02, 1.07000000e+02, ...,\n",
       "        3.16002334e+00, 2.24379899e+00, 5.07302983e+00],\n",
       "       ...,\n",
       "       [3.49000000e+02, 2.40000000e+02, 3.55000000e+02, ...,\n",
       "        5.10003085e+00, 1.49843167e+00, 8.09380144e+00],\n",
       "       [4.27000000e+02, 7.00000000e+01, 6.30000000e+01, ...,\n",
       "        9.96692372e+00, 8.53898137e+00, 7.03636660e+00],\n",
       "       [1.44000000e+02, 2.16000000e+02, 6.60000000e+01, ...,\n",
       "        7.29626760e-01, 7.67049219e-01, 9.54179534e+00]])"
      ]
     },
     "execution_count": 226,
     "metadata": {},
     "output_type": "execute_result"
    }
   ],
   "source": [
    "hidden_data.values"
   ]
  },
  {
   "cell_type": "code",
   "execution_count": 228,
   "id": "b876d84a-4a65-461f-9021-67690e3521bf",
   "metadata": {},
   "outputs": [
    {
     "name": "stderr",
     "output_type": "stream",
     "text": [
      "C:\\Users\\Kuba\\anaconda3\\envs\\dataanalysis\\lib\\site-packages\\sklearn\\base.py:443: UserWarning: X has feature names, but PolynomialFeatures was fitted without feature names\n",
      "  warnings.warn(\n"
     ]
    },
    {
     "data": {
      "text/plain": [
       "array([ 544.13854911, 3912.08853894,  346.45307819, ..., 1088.22222879,\n",
       "        791.43550062, 4501.19763392])"
      ]
     },
     "execution_count": 228,
     "metadata": {},
     "output_type": "execute_result"
    }
   ],
   "source": [
    "# I choose Lasso Regression model because of the smallest RMSE error\n",
    "y_pred_hidden = lasso_model.predict(hidden_data)\n",
    "y_pred_hidden"
   ]
  },
  {
   "cell_type": "code",
   "execution_count": 229,
   "id": "ef0c7a98-f348-4919-9f25-6804d4a12ec0",
   "metadata": {},
   "outputs": [
    {
     "name": "stdout",
     "output_type": "stream",
     "text": [
      "      Hidden_test_predictions\n",
      "0                  544.138549\n",
      "1                 3912.088539\n",
      "2                  346.453078\n",
      "3                 1882.626801\n",
      "4                 3165.553175\n",
      "...                       ...\n",
      "9995              2225.671012\n",
      "9996              1582.820479\n",
      "9997              1088.222229\n",
      "9998               791.435501\n",
      "9999              4501.197634\n",
      "\n",
      "[10000 rows x 1 columns]\n"
     ]
    }
   ],
   "source": [
    "results = pd.DataFrame()\n",
    "results['Hidden_test_predictions'] = y_pred_hidden\n",
    "print(results)"
   ]
  },
  {
   "cell_type": "code",
   "execution_count": 230,
   "id": "f7242a67-86e8-4329-b8ce-54db7ac1395e",
   "metadata": {},
   "outputs": [],
   "source": [
    "results.to_csv('Internship_hidden_test_predictions.csv')"
   ]
  },
  {
   "cell_type": "code",
   "execution_count": 232,
   "id": "8280ad04-a557-49d0-951b-f383094f12fe",
   "metadata": {},
   "outputs": [
    {
     "data": {
      "text/html": [
       "<div>\n",
       "<style scoped>\n",
       "    .dataframe tbody tr th:only-of-type {\n",
       "        vertical-align: middle;\n",
       "    }\n",
       "\n",
       "    .dataframe tbody tr th {\n",
       "        vertical-align: top;\n",
       "    }\n",
       "\n",
       "    .dataframe thead th {\n",
       "        text-align: right;\n",
       "    }\n",
       "</style>\n",
       "<table border=\"1\" class=\"dataframe\">\n",
       "  <thead>\n",
       "    <tr style=\"text-align: right;\">\n",
       "      <th></th>\n",
       "      <th>Hidden_test_predictions</th>\n",
       "    </tr>\n",
       "  </thead>\n",
       "  <tbody>\n",
       "    <tr>\n",
       "      <th>0</th>\n",
       "      <td>544.138549</td>\n",
       "    </tr>\n",
       "    <tr>\n",
       "      <th>1</th>\n",
       "      <td>3912.088539</td>\n",
       "    </tr>\n",
       "    <tr>\n",
       "      <th>2</th>\n",
       "      <td>346.453078</td>\n",
       "    </tr>\n",
       "    <tr>\n",
       "      <th>3</th>\n",
       "      <td>1882.626801</td>\n",
       "    </tr>\n",
       "    <tr>\n",
       "      <th>4</th>\n",
       "      <td>3165.553175</td>\n",
       "    </tr>\n",
       "  </tbody>\n",
       "</table>\n",
       "</div>"
      ],
      "text/plain": [
       "   Hidden_test_predictions\n",
       "0               544.138549\n",
       "1              3912.088539\n",
       "2               346.453078\n",
       "3              1882.626801\n",
       "4              3165.553175"
      ]
     },
     "execution_count": 232,
     "metadata": {},
     "output_type": "execute_result"
    }
   ],
   "source": [
    "status = pd.read_csv('Internship_hidden_test_predictions.csv', index_col=0)\n",
    "status.head()"
   ]
  },
  {
   "cell_type": "code",
   "execution_count": null,
   "id": "7696b81f-830a-41c9-b96e-b8f12813acd2",
   "metadata": {},
   "outputs": [],
   "source": []
  }
 ],
 "metadata": {
  "kernelspec": {
   "display_name": "Python 3 (ipykernel)",
   "language": "python",
   "name": "python3"
  },
  "language_info": {
   "codemirror_mode": {
    "name": "ipython",
    "version": 3
   },
   "file_extension": ".py",
   "mimetype": "text/x-python",
   "name": "python",
   "nbconvert_exporter": "python",
   "pygments_lexer": "ipython3",
   "version": "3.8.13"
  }
 },
 "nbformat": 4,
 "nbformat_minor": 5
}
