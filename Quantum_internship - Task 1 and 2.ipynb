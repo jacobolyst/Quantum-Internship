{
 "cells": [
  {
   "cell_type": "markdown",
   "id": "fe6ba457-8ee5-4976-bb07-1077972925f7",
   "metadata": {},
   "source": [
    "<r>22.10.2022 r.<r>\n",
    "<h1><center>Assignment - part 1</center></h1>\n",
    "<h2><center>Quantum Internship</center></h2>\n",
    "\n",
    "<h3><center>Jakub Łuczka</center></h3>"
   ]
  },
  {
   "cell_type": "code",
   "execution_count": 86,
   "id": "87124ccc-6fb6-4949-bf7a-4cf2d84a2527",
   "metadata": {},
   "outputs": [],
   "source": [
    "# Import necessery modules\n",
    "\n",
    "import numpy as np\n",
    "import matplotlib.pyplot as plt\n",
    "import timeit"
   ]
  },
  {
   "cell_type": "markdown",
   "id": "1cfe14dc-adfa-44d5-8af4-d02123073ef4",
   "metadata": {},
   "source": [
    "<h3>Exersise 1.</h3>\n",
    "<b>What is FOR loop?</b>\n",
    "\n",
    "You have a positive integer number $N$ as an input. Please write a program in Python 3 that calculates the sum in range $1$ and $N$.\n",
    "\n",
    "Limitations:\n",
    "<li>$N <= 10^{25}$;</li>\n",
    "<li>Execution time: $0.1$ seconds.</li>\n",
    "\n",
    "<br>\n",
    "Examples:\n",
    "<li>Input: <b>1</b> -> Output: <b>1</b>,</li>\n",
    "\n",
    "<li>Input: <b>3</b> -> Output: <b>6</b>,</li>\n",
    "\n",
    "<li>Input: <b>10</b> -> Output: <b>55</b>.</li>\n"
   ]
  },
  {
   "cell_type": "code",
   "execution_count": 71,
   "id": "53f333fc-a4f5-4ffb-aa31-c2bb3c49b805",
   "metadata": {},
   "outputs": [],
   "source": [
    "def sum_of_integers(n):\n",
    "    '''Calculating sum of positive integers in \n",
    "    range from 1 to n using mathematical formula\n",
    "    for this equation -> n * (n+1) / 2\n",
    "    \n",
    "    :param n : positive integer number\n",
    "    :type n : integer\n",
    "    \n",
    "    :raises TypeError: if N is not an integer\n",
    "    :raises ValueError: if N is smaller than 1\n",
    "    \n",
    "    :returns: sum of integers between 1 and N'''\n",
    "    \n",
    "    if type(n) != int:\n",
    "        raise TypeError('Type of N is not integer!')\n",
    "        \n",
    "    if n < 1:\n",
    "        raise ValueError('n must be positive!')\n",
    "    \n",
    "    number, next_integer = n, n+1\n",
    "    return int(number * next_integer / 2)\n"
   ]
  },
  {
   "cell_type": "code",
   "execution_count": 85,
   "id": "53e76378-543d-4aed-a614-778c6ac8366d",
   "metadata": {},
   "outputs": [
    {
     "name": "stdout",
     "output_type": "stream",
     "text": [
      "The time difference is : 0.000246300000071642\n"
     ]
    }
   ],
   "source": [
    "starttime = timeit.default_timer()\n",
    "sum_of_integers(6)\n",
    "print(\"The time difference is :\", timeit.default_timer() - starttime)"
   ]
  },
  {
   "cell_type": "code",
   "execution_count": 88,
   "id": "676708ed-4153-4eb2-aed5-00ba994e529d",
   "metadata": {},
   "outputs": [
    {
     "name": "stdout",
     "output_type": "stream",
     "text": [
      "The time difference is : 0.0002803000002131739\n"
     ]
    }
   ],
   "source": [
    "starttime = timeit.default_timer()\n",
    "sum_of_integers(10)\n",
    "print(\"The time difference is :\", timeit.default_timer() - starttime)"
   ]
  },
  {
   "cell_type": "code",
   "execution_count": 87,
   "id": "848f7803-b8df-4f8e-9afb-dcd9ee545caa",
   "metadata": {},
   "outputs": [
    {
     "name": "stdout",
     "output_type": "stream",
     "text": [
      "The time difference is : 0.0002918999998655636\n"
     ]
    }
   ],
   "source": [
    "starttime = timeit.default_timer()\n",
    "sum_of_integers(10**25)\n",
    "print(\"The time difference is :\", timeit.default_timer() - starttime)"
   ]
  },
  {
   "cell_type": "markdown",
   "id": "c0508fd2-c264-47ee-81ef-2a1ba2e26931",
   "metadata": {},
   "source": [
    "<h3>Exercise 2.</h3>\n",
    "\n",
    "<b>Counting islands</b>\n",
    "\n",
    "You have a matrix $M$x$N$ that represents a map. There are 2 possible states on the map: 1 - islands, 0 - ocean. Your task is to calculate the number of islands in the most effective way. Please write code in Python 3.\n",
    "\n",
    "Inputs: $M$x$N$\n",
    "\n",
    "Examples: \n",
    "\n",
    "<li>Input: 3x3, Output: 2</li>\n",
    "<br>\n",
    "$\\left( \\begin{array}{ccc}\n",
    "0 & 1 & 0 \\\\\n",
    "0 & 0 & 0 \\\\\n",
    "0 & 1 & 1 \\end{array} \\right)$\n",
    "\n",
    "<li>Input: 3x4, Output: 3</li> \n",
    "<br>\n",
    "$\\left( \\begin{array}{cccc}\n",
    "0 & 0 & 0 & 1 \\\\\n",
    "0 & 0 & 1 & 0 \\\\\n",
    "0 & 1 & 0 & 0 \\end{array} \\right)$\n",
    "\n",
    "<li>Input: 3x4, Output: 2</li>\n",
    "<br>\n",
    "$\\left( \\begin{array}{cccc}\n",
    "0 & 0 & 0 & 1 \\\\\n",
    "0 & 0 & 1 & 1 \\\\\n",
    "0 & 1 & 0 & 1 \\end{array} \\right)$"
   ]
  },
  {
   "cell_type": "code",
   "execution_count": 176,
   "id": "ff678739-2dce-4b7b-a700-38a2e6e8485e",
   "metadata": {},
   "outputs": [],
   "source": [
    "def island_creator(m, n, p):\n",
    "    '''Function which creates an island based on squared\n",
    "    numpy.array size m x n with probability of existing\n",
    "    equal to p\n",
    "    \n",
    "    :param m : size of the lattice edge (number of rows)\n",
    "    :type m : int\n",
    "    \n",
    "    :param n : size of the lattice edge (number of columns)\n",
    "    :type n : int\n",
    "    \n",
    "    :param p : probability of island exisiting\n",
    "    :type p : float\n",
    "    \n",
    "    :returns: a forest based on numpy.array with ones \n",
    "    meaning trees and zeros and meaning empty space'''\n",
    "    \n",
    "    ocean_matrix = np.zeros(shape = (m, n))\n",
    "\n",
    "    for i in range(m):\n",
    "        for j in range(n):\n",
    "            if np.random.uniform() <= p:\n",
    "                ocean_matrix[i][j] = 1\n",
    "    \n",
    "    return ocean_matrix\n"
   ]
  },
  {
   "cell_type": "code",
   "execution_count": 177,
   "id": "881583c2-058d-49de-9614-48c69ab8935a",
   "metadata": {},
   "outputs": [
    {
     "data": {
      "text/plain": [
       "array([[0., 0., 0., 0., 0., 0.],\n",
       "       [1., 0., 1., 1., 0., 1.],\n",
       "       [0., 0., 1., 0., 0., 0.],\n",
       "       [1., 1., 0., 0., 1., 0.],\n",
       "       [0., 0., 0., 0., 1., 1.]])"
      ]
     },
     "execution_count": 177,
     "metadata": {},
     "output_type": "execute_result"
    }
   ],
   "source": [
    "m, n, p = 5, 6, 0.4\n",
    "island_creator(m, n, p)"
   ]
  },
  {
   "cell_type": "code",
   "execution_count": 189,
   "id": "b3705f9f-eb81-45d6-8bb3-5ba609f1569f",
   "metadata": {},
   "outputs": [],
   "source": [
    "def cluster_searching(island):\n",
    "    '''Searching for the biggest cluster of smoked trees in forest\n",
    "    based on Hoshen-Kopelman algorithm, but with consideration of\n",
    "    crossing neighbours\n",
    "        \n",
    "    : param forest : final step of burning forest with three states \n",
    "                     0 - empty space, 1 - trees and 3 - smoked trees \n",
    "    : type forest : np.array\n",
    "       \n",
    "    :returns: size of the biggest cluster (number of elements with the\n",
    "    same ID)'''\n",
    "    \n",
    "    # Help function used to merge labels if there any revisions        \n",
    "    def ID_merging(merged, to):\n",
    "        for m in merged:\n",
    "            labels[labels == m] = to\n",
    "            if m != to:\n",
    "                ID_list.remove(m)\n",
    "                \n",
    "    ID_list = []\n",
    "    actual_ID = 1\n",
    "    m, n = island.shape[0], island.shape[1]\n",
    "    labels = np.zeros((m, n))\n",
    "    \n",
    "    # Going through all elements in forest array\n",
    "    for i in range(m):\n",
    "        for j in range(n):\n",
    "            # Checking for smoked trees\n",
    "            if island[i, j] == 1:\n",
    "                neighbours_ID_list = []\n",
    "                neighbourhood = [(i-1, j), (i, j-1)]\n",
    "                # Looking for IDs of the neighbourhood\n",
    "                for first_neighbour, second_neighbour in neighbourhood:\n",
    "                    # Be sure that element exists in array\n",
    "                    if first_neighbour >= 0 and second_neighbour >= 0:\n",
    "                        if island[first_neighbour, second_neighbour] == 1:\n",
    "                            if labels[first_neighbour, second_neighbour] not in neighbours_ID_list:\n",
    "                                neighbours_ID_list.append(labels[first_neighbour, second_neighbour])\n",
    "\n",
    "                if not neighbours_ID_list:\n",
    "                    # Adding new ID to main list\n",
    "                    labels[i, j] = actual_ID\n",
    "                    ID_list.append(actual_ID)\n",
    "                    actual_ID = actual_ID + 1\n",
    "                else:\n",
    "                    # Taking minimum of IDs and changing ID for all neighbourhood\n",
    "                    labels[i, j] = min(neighbours_ID_list)\n",
    "                    ID_merging(neighbours_ID_list, min(neighbours_ID_list))\n",
    "    \n",
    "    return len(ID_list)\n"
   ]
  },
  {
   "cell_type": "code",
   "execution_count": 190,
   "id": "b5332752-913a-4c27-bcdb-2ee5b0939294",
   "metadata": {},
   "outputs": [
    {
     "data": {
      "text/plain": [
       "array([[0., 0., 1., 1., 1., 0., 0.],\n",
       "       [1., 0., 1., 1., 1., 1., 1.],\n",
       "       [1., 1., 1., 1., 0., 0., 1.],\n",
       "       [0., 1., 0., 0., 0., 0., 0.],\n",
       "       [0., 0., 1., 0., 1., 1., 1.],\n",
       "       [0., 1., 1., 1., 1., 0., 0.]])"
      ]
     },
     "execution_count": 190,
     "metadata": {},
     "output_type": "execute_result"
    }
   ],
   "source": [
    "m, n, p = 6, 7, 0.4\n",
    "island = island_creator(m, n, p)\n",
    "island"
   ]
  },
  {
   "cell_type": "code",
   "execution_count": 191,
   "id": "50658809-f44e-4575-b93c-3ae83e7a32d4",
   "metadata": {},
   "outputs": [
    {
     "data": {
      "text/plain": [
       "2"
      ]
     },
     "execution_count": 191,
     "metadata": {},
     "output_type": "execute_result"
    }
   ],
   "source": [
    "cluster_searching(island)"
   ]
  },
  {
   "cell_type": "code",
   "execution_count": 192,
   "id": "bd53bcdc-5ee5-4e3d-88b7-8f146c868cd3",
   "metadata": {},
   "outputs": [
    {
     "data": {
      "text/plain": [
       "array([[1., 0., 0., 0., 0., 0., 0., 1.],\n",
       "       [0., 0., 0., 0., 1., 0., 1., 1.],\n",
       "       [0., 0., 0., 0., 1., 1., 0., 0.],\n",
       "       [1., 0., 1., 1., 0., 0., 1., 1.],\n",
       "       [1., 0., 1., 0., 1., 0., 0., 1.],\n",
       "       [1., 1., 0., 0., 0., 1., 1., 1.],\n",
       "       [0., 1., 0., 0., 1., 0., 0., 0.],\n",
       "       [0., 0., 0., 0., 1., 1., 1., 0.]])"
      ]
     },
     "execution_count": 192,
     "metadata": {},
     "output_type": "execute_result"
    }
   ],
   "source": [
    "m, n, p = 8, 8, 0.4\n",
    "island = island_creator(m, n, p)\n",
    "island"
   ]
  },
  {
   "cell_type": "code",
   "execution_count": 193,
   "id": "1e6711b2-e99c-4f6f-ac4f-2918d9c1f312",
   "metadata": {},
   "outputs": [
    {
     "data": {
      "text/plain": [
       "8"
      ]
     },
     "execution_count": 193,
     "metadata": {},
     "output_type": "execute_result"
    }
   ],
   "source": [
    "cluster_searching(island)"
   ]
  },
  {
   "cell_type": "code",
   "execution_count": 194,
   "id": "f5cb0ff2-d5ce-440d-9c79-abcd53269816",
   "metadata": {},
   "outputs": [
    {
     "data": {
      "text/plain": [
       "array([[0., 1., 0., 0., 0., 0., 1., 1., 0., 0.],\n",
       "       [1., 1., 1., 1., 0., 0., 1., 0., 1., 0.],\n",
       "       [1., 0., 1., 1., 0., 0., 0., 0., 1., 0.],\n",
       "       [0., 1., 1., 0., 0., 1., 0., 0., 1., 1.],\n",
       "       [0., 0., 0., 0., 0., 1., 1., 0., 0., 1.],\n",
       "       [1., 0., 0., 0., 1., 1., 0., 0., 0., 0.],\n",
       "       [0., 0., 0., 0., 1., 0., 0., 1., 1., 0.],\n",
       "       [0., 0., 1., 1., 0., 0., 0., 1., 1., 0.],\n",
       "       [0., 0., 1., 0., 1., 0., 0., 1., 1., 0.],\n",
       "       [1., 0., 1., 0., 1., 1., 0., 0., 0., 1.]])"
      ]
     },
     "execution_count": 194,
     "metadata": {},
     "output_type": "execute_result"
    }
   ],
   "source": [
    "m, n, p = 10, 10, 0.4\n",
    "island = island_creator(m, n, p)\n",
    "island"
   ]
  },
  {
   "cell_type": "code",
   "execution_count": 195,
   "id": "3bc5461d-2c0a-427a-bbd7-c4a8c500686c",
   "metadata": {},
   "outputs": [
    {
     "data": {
      "text/plain": [
       "10"
      ]
     },
     "execution_count": 195,
     "metadata": {},
     "output_type": "execute_result"
    }
   ],
   "source": [
    "cluster_searching(island)"
   ]
  },
  {
   "cell_type": "code",
   "execution_count": null,
   "id": "40935952-511e-4f11-b2f5-a26eb1c9ed45",
   "metadata": {},
   "outputs": [],
   "source": []
  }
 ],
 "metadata": {
  "kernelspec": {
   "display_name": "Python 3 (ipykernel)",
   "language": "python",
   "name": "python3"
  },
  "language_info": {
   "codemirror_mode": {
    "name": "ipython",
    "version": 3
   },
   "file_extension": ".py",
   "mimetype": "text/x-python",
   "name": "python",
   "nbconvert_exporter": "python",
   "pygments_lexer": "ipython3",
   "version": "3.8.13"
  }
 },
 "nbformat": 4,
 "nbformat_minor": 5
}
